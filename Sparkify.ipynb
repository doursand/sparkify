{
 "cells": [
  {
   "cell_type": "markdown",
   "metadata": {},
   "source": [
    "# Sparkify Project Workspace\n",
    "This workspace contains a tiny subset (128MB) of the full dataset available (12GB). \n"
   ]
  },
  {
   "cell_type": "code",
   "execution_count": 1,
   "metadata": {},
   "outputs": [],
   "source": [
    "# import libraries\n",
    "from pyspark.sql import SparkSession\n",
    "from pyspark.sql.functions import udf\n",
    "from pyspark.sql.types import StringType\n",
    "from pyspark.sql.types import IntegerType\n",
    "from pyspark.sql.functions import desc\n",
    "from pyspark.sql.functions import asc\n",
    "from pyspark.sql.functions import sum as Fsum\n",
    "from pyspark.sql.functions import isnan, when, count, col\n",
    "from pyspark.sql import Window\n",
    "from pyspark.ml import Pipeline\n",
    "from pyspark.ml.tuning import CrossValidator, ParamGridBuilder\n",
    "from pyspark.ml.classification import GBTClassifier, LogisticRegression,RandomForestClassifier,DecisionTreeClassifier\n",
    "from pyspark.ml.evaluation import MulticlassClassificationEvaluator, BinaryClassificationEvaluator\n",
    "from pyspark.ml.feature import StandardScaler, MinMaxScaler,VectorAssembler\n",
    "from pyspark.ml.tuning import CrossValidator, ParamGridBuilder \n",
    "from pyspark.sql.types import DoubleType\n",
    "\n",
    "import datetime\n",
    "\n",
    "import numpy as np\n",
    "import pandas as pd\n",
    "%matplotlib inline\n",
    "import matplotlib.pyplot as plt\n",
    "import seaborn as sns"
   ]
  },
  {
   "cell_type": "code",
   "execution_count": 2,
   "metadata": {},
   "outputs": [],
   "source": [
    "spark = SparkSession \\\n",
    "    .builder \\\n",
    "    .appName(\"Sparkify churn\") \\\n",
    "    .getOrCreate()"
   ]
  },
  {
   "cell_type": "code",
   "execution_count": 3,
   "metadata": {},
   "outputs": [
    {
     "data": {
      "text/plain": [
       "[('spark.driver.port', '37981'),\n",
       " ('spark.app.id', 'local-1568105544033'),\n",
       " ('spark.rdd.compress', 'True'),\n",
       " ('spark.serializer.objectStreamReset', '100'),\n",
       " ('spark.master', 'local[*]'),\n",
       " ('spark.executor.id', 'driver'),\n",
       " ('spark.submit.deployMode', 'client'),\n",
       " ('spark.ui.showConsoleProgress', 'true'),\n",
       " ('spark.app.name', 'Sparkify churn'),\n",
       " ('spark.driver.host', '0f8271ba781b')]"
      ]
     },
     "execution_count": 3,
     "metadata": {},
     "output_type": "execute_result"
    }
   ],
   "source": [
    "spark.sparkContext.getConf().getAll()"
   ]
  },
  {
   "cell_type": "markdown",
   "metadata": {},
   "source": [
    "# Load and Clean Dataset\n",
    "In this workspace, the mini-dataset file is `mini_sparkify_event_data.json`. We will first load and clean the dataset, checking for invalid or missing data - for example, records without userids or sessionids. "
   ]
  },
  {
   "cell_type": "markdown",
   "metadata": {},
   "source": [
    "## load dataset"
   ]
  },
  {
   "cell_type": "code",
   "execution_count": 6,
   "metadata": {},
   "outputs": [],
   "source": [
    "#load json dataset\n",
    "df = spark.read.json('mini_sparkify_event_data.json')"
   ]
  },
  {
   "cell_type": "code",
   "execution_count": 7,
   "metadata": {},
   "outputs": [
    {
     "name": "stdout",
     "output_type": "stream",
     "text": [
      "root\n",
      " |-- artist: string (nullable = true)\n",
      " |-- auth: string (nullable = true)\n",
      " |-- firstName: string (nullable = true)\n",
      " |-- gender: string (nullable = true)\n",
      " |-- itemInSession: long (nullable = true)\n",
      " |-- lastName: string (nullable = true)\n",
      " |-- length: double (nullable = true)\n",
      " |-- level: string (nullable = true)\n",
      " |-- location: string (nullable = true)\n",
      " |-- method: string (nullable = true)\n",
      " |-- page: string (nullable = true)\n",
      " |-- registration: long (nullable = true)\n",
      " |-- sessionId: long (nullable = true)\n",
      " |-- song: string (nullable = true)\n",
      " |-- status: long (nullable = true)\n",
      " |-- ts: long (nullable = true)\n",
      " |-- userAgent: string (nullable = true)\n",
      " |-- userId: string (nullable = true)\n",
      "\n"
     ]
    }
   ],
   "source": [
    "#print data schema\n",
    "df.printSchema()"
   ]
  },
  {
   "cell_type": "raw",
   "metadata": {},
   "source": [
    "Artist: Composer\n",
    "Auth: login status\n",
    "firstName: first name\n",
    "gender: gender\n",
    "ItemInSession: operation sequence number of this session, from small to large according to time\n",
    "lastName: surname\n",
    "length: the length of the song\n",
    "Level: whether the user is paid or not\n",
    "location: the user location\n",
    "method: method of getting web pages (put/get)\n",
    "page: browse the page overview\n",
    "registration: time stamp for registration point in time\n",
    "sessionId: sessionId that should be used to determine a single login operation\n",
    "song: song name\n",
    "status: page return code (200/307/404)\n",
    "ts: the timestamp of the log time (unix time)\n",
    "UserAgent: browse the client information\n",
    "UserId: userId"
   ]
  },
  {
   "cell_type": "code",
   "execution_count": 8,
   "metadata": {},
   "outputs": [
    {
     "data": {
      "text/plain": [
       "[Row(artist='Martha Tilston', auth='Logged In', firstName='Colin', gender='M', itemInSession=50, lastName='Freeman', length=277.89016, level='paid', location='Bakersfield, CA', method='PUT', page='NextSong', registration=1538173362000, sessionId=29, song='Rockpools', status=200, ts=1538352117000, userAgent='Mozilla/5.0 (Windows NT 6.1; WOW64; rv:31.0) Gecko/20100101 Firefox/31.0', userId='30'),\n",
       " Row(artist='Five Iron Frenzy', auth='Logged In', firstName='Micah', gender='M', itemInSession=79, lastName='Long', length=236.09424, level='free', location='Boston-Cambridge-Newton, MA-NH', method='PUT', page='NextSong', registration=1538331630000, sessionId=8, song='Canada', status=200, ts=1538352180000, userAgent='\"Mozilla/5.0 (Windows NT 6.1; WOW64) AppleWebKit/537.36 (KHTML, like Gecko) Chrome/37.0.2062.103 Safari/537.36\"', userId='9')]"
      ]
     },
     "execution_count": 8,
     "metadata": {},
     "output_type": "execute_result"
    }
   ],
   "source": [
    "#print the first 2 lines to see how the data look like & to get familiar with the data\n",
    "df.take(2)"
   ]
  },
  {
   "cell_type": "markdown",
   "metadata": {},
   "source": [
    "## clean dataset"
   ]
  },
  {
   "cell_type": "code",
   "execution_count": 9,
   "metadata": {},
   "outputs": [],
   "source": [
    "# as we won't be able to do much with lines with empty userId or sessionId, let's drop the null values for userId and sessionId\n",
    "df_valid = df.dropna(how = \"any\", subset = [\"userId\", \"sessionId\"])"
   ]
  },
  {
   "cell_type": "code",
   "execution_count": 10,
   "metadata": {},
   "outputs": [
    {
     "name": "stdout",
     "output_type": "stream",
     "text": [
      "+------+---------+\n",
      "|userId|sessionId|\n",
      "+------+---------+\n",
      "|     0|        0|\n",
      "+------+---------+\n",
      "\n"
     ]
    }
   ],
   "source": [
    "# Let's confirm that there are no null values after the cleaning above\n",
    "df.select([count(when(isnan(c), c)).alias(c) for c in [\"userId\",\"sessionId\"]]).show()"
   ]
  },
  {
   "cell_type": "code",
   "execution_count": 11,
   "metadata": {},
   "outputs": [
    {
     "data": {
      "text/plain": [
       "286500"
      ]
     },
     "execution_count": 11,
     "metadata": {},
     "output_type": "execute_result"
    }
   ],
   "source": [
    "#how many rows do we have now in the dataset ?\n",
    "df_valid.count()"
   ]
  },
  {
   "cell_type": "code",
   "execution_count": 12,
   "metadata": {},
   "outputs": [],
   "source": [
    "#Let's take a look at the userId column"
   ]
  },
  {
   "cell_type": "code",
   "execution_count": 13,
   "metadata": {},
   "outputs": [
    {
     "name": "stdout",
     "output_type": "stream",
     "text": [
      "+------+\n",
      "|userId|\n",
      "+------+\n",
      "|      |\n",
      "|    10|\n",
      "|   100|\n",
      "|100001|\n",
      "|100002|\n",
      "|100003|\n",
      "|100004|\n",
      "|100005|\n",
      "|100006|\n",
      "|100007|\n",
      "|100008|\n",
      "|100009|\n",
      "|100010|\n",
      "|100011|\n",
      "|100012|\n",
      "|100013|\n",
      "|100014|\n",
      "|100015|\n",
      "|100016|\n",
      "|100017|\n",
      "+------+\n",
      "only showing top 20 rows\n",
      "\n"
     ]
    }
   ],
   "source": [
    "df.select(\"userId\").dropDuplicates().sort(\"userId\").show()"
   ]
  },
  {
   "cell_type": "code",
   "execution_count": 14,
   "metadata": {},
   "outputs": [],
   "source": [
    "#even though there are no more NaN values, it seems that there are userId == \"\", which may cause us problem as well\n",
    "#let's exclude these empty users from the dataset, probably users who have not registered\n",
    "df_valid = df_valid.filter(df_valid[\"userId\"] != \"\")"
   ]
  },
  {
   "cell_type": "code",
   "execution_count": 15,
   "metadata": {},
   "outputs": [
    {
     "data": {
      "text/plain": [
       "278154"
      ]
     },
     "execution_count": 15,
     "metadata": {},
     "output_type": "execute_result"
    }
   ],
   "source": [
    "#after removal, here is the number of remaining rows\n",
    "total_rows = df_valid.count()\n",
    "total_rows"
   ]
  },
  {
   "cell_type": "markdown",
   "metadata": {},
   "source": [
    "# Exploratory Data Analysis\n"
   ]
  },
  {
   "cell_type": "markdown",
   "metadata": {},
   "source": [
    "### Define the churn column"
   ]
  },
  {
   "cell_type": "code",
   "execution_count": 11,
   "metadata": {},
   "outputs": [
    {
     "name": "stdout",
     "output_type": "stream",
     "text": [
      "+-------------------------+\n",
      "|page                     |\n",
      "+-------------------------+\n",
      "|About                    |\n",
      "|Add Friend               |\n",
      "|Add to Playlist          |\n",
      "|Cancel                   |\n",
      "|Cancellation Confirmation|\n",
      "|Downgrade                |\n",
      "|Error                    |\n",
      "|Help                     |\n",
      "|Home                     |\n",
      "|Logout                   |\n",
      "|NextSong                 |\n",
      "|Roll Advert              |\n",
      "|Save Settings            |\n",
      "|Settings                 |\n",
      "|Submit Downgrade         |\n",
      "|Submit Upgrade           |\n",
      "|Thumbs Down              |\n",
      "|Thumbs Up                |\n",
      "|Upgrade                  |\n",
      "+-------------------------+\n",
      "\n"
     ]
    }
   ],
   "source": [
    "#here is the list of the possible actions of the users in the app\n",
    "df_valid.select(\"page\").dropDuplicates().sort(\"page\").show(truncate=False)\n"
   ]
  },
  {
   "cell_type": "markdown",
   "metadata": {},
   "source": [
    "from the list of actions above, it seems that the \"Cancellation  Confirmation\" is the one we are particularly interested \n",
    "to flag churn"
   ]
  },
  {
   "cell_type": "code",
   "execution_count": 12,
   "metadata": {},
   "outputs": [
    {
     "name": "stdout",
     "output_type": "stream",
     "text": [
      "+------+---------+------+--------------------+--------------------+\n",
      "|userId|firstName|gender|           userAgent|            location|\n",
      "+------+---------+------+--------------------+--------------------+\n",
      "|100001|  Delaney|     F|\"Mozilla/5.0 (Mac...|Miami-Fort Lauder...|\n",
      "|100003|   Nevaeh|     F|Mozilla/5.0 (Wind...|Miami-Fort Lauder...|\n",
      "|100005|    Cason|     M|\"Mozilla/5.0 (Mac...|          Monroe, LA|\n",
      "|100006|    Leyla|     F|\"Mozilla/5.0 (Win...|           Flint, MI|\n",
      "|100007|    Piper|     F|\"Mozilla/5.0 (Win...|Little Rock-North...|\n",
      "+------+---------+------+--------------------+--------------------+\n",
      "only showing top 5 rows\n",
      "\n"
     ]
    }
   ],
   "source": [
    "#let's take a look at a few examples of users who cancelled their subscription\n",
    "df_valid.select(['userId', 'firstName','gender','userAgent','location']).\\\n",
    "filter(df_valid['page'] == 'Cancellation Confirmation').sort('userId',ascending=True).show(n=5,truncate=True)"
   ]
  },
  {
   "cell_type": "markdown",
   "metadata": {},
   "source": [
    "what were the actions in the app prior to the cancellation ? E.g. for userId = 100001"
   ]
  },
  {
   "cell_type": "code",
   "execution_count": 16,
   "metadata": {},
   "outputs": [],
   "source": [
    "# first, add a new colum called time to see clearly the timestamp\n",
    "get_time = udf(lambda x: datetime.datetime.fromtimestamp(x / 1000.0).strftime(\"%Y-%m-%d %H:%M:%S\"))\n",
    "df_valid = df_valid.withColumn(\"time\", get_time(df_valid.ts))"
   ]
  },
  {
   "cell_type": "code",
   "execution_count": 17,
   "metadata": {},
   "outputs": [
    {
     "name": "stdout",
     "output_type": "stream",
     "text": [
      "+-------------------+------+--------------------+--------------------+--------------------+\n",
      "|               time|userId|                page|              artist|                song|\n",
      "+-------------------+------+--------------------+--------------------+--------------------+\n",
      "|2018-10-02 16:36:45|100001|Cancellation Conf...|                null|                null|\n",
      "|2018-10-02 16:34:34|100001|              Cancel|                null|                null|\n",
      "|2018-10-02 16:34:33|100001|         Roll Advert|                null|                null|\n",
      "|2018-10-02 16:33:52|100001|            NextSong|            Harmonia|       Sehr kosmisch|\n",
      "|2018-10-02 16:29:46|100001|                Home|                null|                null|\n",
      "|2018-10-02 16:29:19|100001|              Logout|                null|                null|\n",
      "|2018-10-02 16:29:18|100001|            NextSong|           Lady GaGa|           Alejandro|\n",
      "|2018-10-02 16:24:34|100001|            NextSong|Michael BublÃÂ© ...|Quando_ Quando_ Q...|\n",
      "|2018-10-02 16:19:54|100001|            NextSong|      Bebel Gilberto|     Samba Da Bencao|\n",
      "|2018-10-02 16:16:50|100001|                Help|                null|                null|\n",
      "|2018-10-02 16:16:24|100001|            NextSong|            Natiruts|Jamaica Roots II(...|\n",
      "|2018-10-02 16:13:59|100001|         Roll Advert|                null|                null|\n",
      "|2018-10-02 16:12:33|100001|            NextSong|Peter Bjorn And John|          Paris 2004|\n",
      "|2018-10-02 16:07:00|100001|            NextSong|         Sheryl Crow|     I Shall Believe|\n",
      "|2018-10-02 16:03:18|100001|            NextSong|            Sanalejo|             Amapola|\n",
      "|2018-10-02 16:00:21|100001|            NextSong|Sopor Aeternus & ...|    La Mort d'Arthur|\n",
      "|2018-10-02 15:50:27|100001|            NextSong|Beanfield feat. B...|Tides (C's Moveme...|\n",
      "|2018-10-02 15:42:36|100001|            NextSong|      Peter Frampton|  Most Of All (Live)|\n",
      "|2018-10-02 15:39:43|100001|            NextSong|        Matt Pond PA|     KC (LP Version)|\n",
      "|2018-10-02 15:33:45|100001|                Home|                null|                null|\n",
      "+-------------------+------+--------------------+--------------------+--------------------+\n",
      "only showing top 20 rows\n",
      "\n"
     ]
    }
   ],
   "source": [
    "#next, let's take a look at the userId 100001\n",
    "df_valid.select(['time','userId','page','artist','song']).filter(df_valid['userId'] == 100001).sort('time',ascending=False).show(20)"
   ]
  },
  {
   "cell_type": "code",
   "execution_count": 18,
   "metadata": {},
   "outputs": [],
   "source": [
    "#creation of a churn column which will contain 1 if the user cancelled, 0 otherwise\n",
    "flag_cancellation_event = udf(lambda x: 1 if x == \"Cancellation Confirmation\" else 0, IntegerType())\n",
    "\n",
    "df_valid = df_valid.withColumn(\"Churn\", flag_cancellation_event('page'))\n",
    "windowval = Window.partitionBy(\"userId\").rangeBetween(Window.unboundedPreceding, Window.unboundedFollowing)\n",
    "df_valid = df_valid.withColumn(\"Churn\",Fsum(\"Churn\").over(windowval))"
   ]
  },
  {
   "cell_type": "code",
   "execution_count": 19,
   "metadata": {},
   "outputs": [
    {
     "name": "stdout",
     "output_type": "stream",
     "text": [
      "+-------------------+------+--------------------+--------------------+--------------------+-----+\n",
      "|               time|userId|                page|              artist|                song|Churn|\n",
      "+-------------------+------+--------------------+--------------------+--------------------+-----+\n",
      "|2018-10-02 16:36:45|100001|Cancellation Conf...|                null|                null|    1|\n",
      "|2018-10-02 16:34:34|100001|              Cancel|                null|                null|    1|\n",
      "|2018-10-02 16:34:33|100001|         Roll Advert|                null|                null|    1|\n",
      "|2018-10-02 16:33:52|100001|            NextSong|            Harmonia|       Sehr kosmisch|    1|\n",
      "|2018-10-02 16:29:46|100001|                Home|                null|                null|    1|\n",
      "|2018-10-02 16:29:19|100001|              Logout|                null|                null|    1|\n",
      "|2018-10-02 16:29:18|100001|            NextSong|           Lady GaGa|           Alejandro|    1|\n",
      "|2018-10-02 16:24:34|100001|            NextSong|Michael BublÃÂ© ...|Quando_ Quando_ Q...|    1|\n",
      "|2018-10-02 16:19:54|100001|            NextSong|      Bebel Gilberto|     Samba Da Bencao|    1|\n",
      "|2018-10-02 16:16:50|100001|                Help|                null|                null|    1|\n",
      "+-------------------+------+--------------------+--------------------+--------------------+-----+\n",
      "only showing top 10 rows\n",
      "\n"
     ]
    }
   ],
   "source": [
    "#let's reuse userId=100001 to confirm that the column Churn is indeed == 1 when the page event is 'Cancellation confirmation'\n",
    "df_valid.select(['time','userId','page','artist','song','Churn']).filter(df_valid['userId'] == 100001).sort('time',ascending=False).show(10)"
   ]
  },
  {
   "cell_type": "markdown",
   "metadata": {},
   "source": [
    "### Data exploration"
   ]
  },
  {
   "cell_type": "code",
   "execution_count": 20,
   "metadata": {},
   "outputs": [
    {
     "name": "stdout",
     "output_type": "stream",
     "text": [
      "root\n",
      " |-- artist: string (nullable = true)\n",
      " |-- auth: string (nullable = true)\n",
      " |-- firstName: string (nullable = true)\n",
      " |-- gender: string (nullable = true)\n",
      " |-- itemInSession: long (nullable = true)\n",
      " |-- lastName: string (nullable = true)\n",
      " |-- length: double (nullable = true)\n",
      " |-- level: string (nullable = true)\n",
      " |-- location: string (nullable = true)\n",
      " |-- method: string (nullable = true)\n",
      " |-- page: string (nullable = true)\n",
      " |-- registration: long (nullable = true)\n",
      " |-- sessionId: long (nullable = true)\n",
      " |-- song: string (nullable = true)\n",
      " |-- status: long (nullable = true)\n",
      " |-- ts: long (nullable = true)\n",
      " |-- userAgent: string (nullable = true)\n",
      " |-- userId: string (nullable = true)\n",
      " |-- time: string (nullable = true)\n",
      " |-- Churn: long (nullable = true)\n",
      "\n"
     ]
    }
   ],
   "source": [
    "#let's print again the dataframe schema to highlight the changes we did\n",
    "df_valid.printSchema()"
   ]
  },
  {
   "cell_type": "raw",
   "metadata": {},
   "source": [
    "Recap on the different columns in the df_valid dataset\n",
    "\n",
    "Artist: Composer (ex Metallica)\n",
    "Auth: login status (ex logged in, out)\n",
    "firstName: first name\n",
    "gender: gender (M or )\n",
    "ItemInSession: count of items per session (ex 10)\n",
    "lastName: surname\n",
    "length: the length of the song\n",
    "Level: whether the user is paid\n",
    "location: the user location\n",
    "method: method of getting web pages (put/get)\n",
    "page: browse the page overview\n",
    "registration: time stamp for registration point in time\n",
    "sessionId: sessionId that should be used to determine a single login operation\n",
    "song: song name\n",
    "status: page return code (200/307/404)\n",
    "ts: the timestamp of the log time (unix timestamp) ==> rather use 'time' field now\n",
    "NEW COLUMN ==> time\n",
    "UserAgent: browse the client information\n",
    "UserId: userId\n",
    "NEW COLUMN ==> Churn : 1 if the user churned, 0 otherwise"
   ]
  },
  {
   "cell_type": "markdown",
   "metadata": {},
   "source": [
    "Now that we defined churn, we gonna perform some exploratory data analysis to observe the behavior for users who stayed vs users who churned. "
   ]
  },
  {
   "cell_type": "markdown",
   "metadata": {},
   "source": [
    "### General dataset stats"
   ]
  },
  {
   "cell_type": "markdown",
   "metadata": {},
   "source": [
    "#### general data exploration"
   ]
  },
  {
   "cell_type": "code",
   "execution_count": 21,
   "metadata": {},
   "outputs": [
    {
     "name": "stdout",
     "output_type": "stream",
     "text": [
      "number of distinct users in sparkify : 225\n"
     ]
    }
   ],
   "source": [
    "print('number of distinct users in sparkify : {}'\\\n",
    "    .format(df_valid.select('userId').drop_duplicates().count()))"
   ]
  },
  {
   "cell_type": "code",
   "execution_count": 22,
   "metadata": {},
   "outputs": [
    {
     "name": "stdout",
     "output_type": "stream",
     "text": [
      "number of artists present in sparkify : 17656\n"
     ]
    }
   ],
   "source": [
    "print('number of artists present in sparkify : {}'\\\n",
    "      .format(df_valid.select('artist').drop_duplicates().count()))"
   ]
  },
  {
   "cell_type": "code",
   "execution_count": 23,
   "metadata": {},
   "outputs": [
    {
     "name": "stdout",
     "output_type": "stream",
     "text": [
      "total amount of churned users : 52\n"
     ]
    }
   ],
   "source": [
    "#total amount of users cancellation\n",
    "print('total amount of churned users : {}'.format(df_valid.select('userId')\\\n",
    "                                            .where(df_valid.Churn == 1).drop_duplicates().count()))"
   ]
  },
  {
   "cell_type": "code",
   "execution_count": 24,
   "metadata": {},
   "outputs": [
    {
     "name": "stdout",
     "output_type": "stream",
     "text": [
      "percentage of churned users : 23%\n"
     ]
    }
   ],
   "source": [
    "print('percentage of churned users : {}%'\\\n",
    "      .format(round(100*(df_valid.select('userId').where(df_valid.Churn == 1)\\\n",
    "                         .drop_duplicates().count())/df_valid.select('userId')\\\n",
    "                         .drop_duplicates().count())))"
   ]
  },
  {
   "cell_type": "markdown",
   "metadata": {},
   "source": [
    "#### explore gender distribution for churn"
   ]
  },
  {
   "cell_type": "code",
   "execution_count": 25,
   "metadata": {},
   "outputs": [],
   "source": [
    "pd_gender = df_valid.select(['userId','Churn','gender']).\\\n",
    "drop_duplicates([\"userId\",\"Churn\",'gender']).groupby([\"Churn\",\"gender\"]).count().toPandas()"
   ]
  },
  {
   "cell_type": "code",
   "execution_count": 26,
   "metadata": {},
   "outputs": [
    {
     "data": {
      "text/html": [
       "<div>\n",
       "<style scoped>\n",
       "    .dataframe tbody tr th:only-of-type {\n",
       "        vertical-align: middle;\n",
       "    }\n",
       "\n",
       "    .dataframe tbody tr th {\n",
       "        vertical-align: top;\n",
       "    }\n",
       "\n",
       "    .dataframe thead th {\n",
       "        text-align: right;\n",
       "    }\n",
       "</style>\n",
       "<table border=\"1\" class=\"dataframe\">\n",
       "  <thead>\n",
       "    <tr style=\"text-align: right;\">\n",
       "      <th></th>\n",
       "      <th>Churn</th>\n",
       "      <th>gender</th>\n",
       "      <th>count</th>\n",
       "    </tr>\n",
       "  </thead>\n",
       "  <tbody>\n",
       "    <tr>\n",
       "      <th>0</th>\n",
       "      <td>0</td>\n",
       "      <td>F</td>\n",
       "      <td>84</td>\n",
       "    </tr>\n",
       "    <tr>\n",
       "      <th>1</th>\n",
       "      <td>1</td>\n",
       "      <td>M</td>\n",
       "      <td>32</td>\n",
       "    </tr>\n",
       "    <tr>\n",
       "      <th>2</th>\n",
       "      <td>1</td>\n",
       "      <td>F</td>\n",
       "      <td>20</td>\n",
       "    </tr>\n",
       "    <tr>\n",
       "      <th>3</th>\n",
       "      <td>0</td>\n",
       "      <td>M</td>\n",
       "      <td>89</td>\n",
       "    </tr>\n",
       "  </tbody>\n",
       "</table>\n",
       "</div>"
      ],
      "text/plain": [
       "   Churn gender  count\n",
       "0      0      F     84\n",
       "1      1      M     32\n",
       "2      1      F     20\n",
       "3      0      M     89"
      ]
     },
     "execution_count": 26,
     "metadata": {},
     "output_type": "execute_result"
    }
   ],
   "source": [
    "pd_gender"
   ]
  },
  {
   "cell_type": "code",
   "execution_count": 27,
   "metadata": {},
   "outputs": [
    {
     "data": {
      "text/plain": [
       "<matplotlib.axes._subplots.AxesSubplot at 0x7f05815f7a58>"
      ]
     },
     "execution_count": 27,
     "metadata": {},
     "output_type": "execute_result"
    },
    {
     "data": {
      "image/png": "[encoded data removed]",
      "text/plain": [
       "<matplotlib.figure.Figure at 0x7f05815f7358>"
      ]
     },
     "metadata": {
      "needs_background": "light"
     },
     "output_type": "display_data"
    }
   ],
   "source": [
    "sns.barplot(x='Churn',y='count',hue='gender',data=pd_gender)"
   ]
  },
  {
   "cell_type": "markdown",
   "metadata": {},
   "source": [
    "generally speaking , there are more men than women using the service, but as well more men likely to churn"
   ]
  },
  {
   "cell_type": "markdown",
   "metadata": {},
   "source": [
    "#### explore level (paid or free) distribution for churn"
   ]
  },
  {
   "cell_type": "code",
   "execution_count": 28,
   "metadata": {},
   "outputs": [],
   "source": [
    "pd_item = df_valid.select(['userId','Churn','level']).\\\n",
    "drop_duplicates([\"userId\",\"Churn\",'level']).groupby([\"Churn\",\"level\"]).count().toPandas()"
   ]
  },
  {
   "cell_type": "code",
   "execution_count": 29,
   "metadata": {},
   "outputs": [
    {
     "data": {
      "text/html": [
       "<div>\n",
       "<style scoped>\n",
       "    .dataframe tbody tr th:only-of-type {\n",
       "        vertical-align: middle;\n",
       "    }\n",
       "\n",
       "    .dataframe tbody tr th {\n",
       "        vertical-align: top;\n",
       "    }\n",
       "\n",
       "    .dataframe thead th {\n",
       "        text-align: right;\n",
       "    }\n",
       "</style>\n",
       "<table border=\"1\" class=\"dataframe\">\n",
       "  <thead>\n",
       "    <tr style=\"text-align: right;\">\n",
       "      <th></th>\n",
       "      <th>Churn</th>\n",
       "      <th>level</th>\n",
       "      <th>count</th>\n",
       "    </tr>\n",
       "  </thead>\n",
       "  <tbody>\n",
       "    <tr>\n",
       "      <th>0</th>\n",
       "      <td>1</td>\n",
       "      <td>paid</td>\n",
       "      <td>36</td>\n",
       "    </tr>\n",
       "    <tr>\n",
       "      <th>1</th>\n",
       "      <td>1</td>\n",
       "      <td>free</td>\n",
       "      <td>46</td>\n",
       "    </tr>\n",
       "    <tr>\n",
       "      <th>2</th>\n",
       "      <td>0</td>\n",
       "      <td>free</td>\n",
       "      <td>149</td>\n",
       "    </tr>\n",
       "    <tr>\n",
       "      <th>3</th>\n",
       "      <td>0</td>\n",
       "      <td>paid</td>\n",
       "      <td>129</td>\n",
       "    </tr>\n",
       "  </tbody>\n",
       "</table>\n",
       "</div>"
      ],
      "text/plain": [
       "   Churn level  count\n",
       "0      1  paid     36\n",
       "1      1  free     46\n",
       "2      0  free    149\n",
       "3      0  paid    129"
      ]
     },
     "execution_count": 29,
     "metadata": {},
     "output_type": "execute_result"
    }
   ],
   "source": [
    "pd_item"
   ]
  },
  {
   "cell_type": "code",
   "execution_count": 30,
   "metadata": {},
   "outputs": [
    {
     "data": {
      "text/plain": [
       "<matplotlib.axes._subplots.AxesSubplot at 0x7f05814de7b8>"
      ]
     },
     "execution_count": 30,
     "metadata": {},
     "output_type": "execute_result"
    },
    {
     "data": {
      "image/png": "[encoded data removed]",
      "text/plain": [
       "<matplotlib.figure.Figure at 0x7f0581542828>"
      ]
     },
     "metadata": {
      "needs_background": "light"
     },
     "output_type": "display_data"
    }
   ],
   "source": [
    "sns.barplot(x='Churn',y='count',hue='level',data=pd_item)"
   ]
  },
  {
   "cell_type": "markdown",
   "metadata": {},
   "source": [
    "churned users are present more with free than paid users"
   ]
  },
  {
   "cell_type": "markdown",
   "metadata": {},
   "source": [
    "#### general distribution of events in the app between churned and active users"
   ]
  },
  {
   "cell_type": "code",
   "execution_count": 31,
   "metadata": {},
   "outputs": [],
   "source": [
    "#let's create 2 pandas datasets ; one for churned users, one for active users\n",
    "churned_users = df_valid.select(['userId','page']).where(df_valid.Churn == 1).groupby('page').agg(count(\"userId\")).toPandas()\n",
    "active_users = df_valid.select(['userId','page']).where(df_valid.Churn == 0).groupby('page').agg(count(\"userId\")).toPandas()"
   ]
  },
  {
   "cell_type": "code",
   "execution_count": 32,
   "metadata": {},
   "outputs": [
    {
     "data": {
      "text/html": [
       "<div>\n",
       "<style scoped>\n",
       "    .dataframe tbody tr th:only-of-type {\n",
       "        vertical-align: middle;\n",
       "    }\n",
       "\n",
       "    .dataframe tbody tr th {\n",
       "        vertical-align: top;\n",
       "    }\n",
       "\n",
       "    .dataframe thead th {\n",
       "        text-align: right;\n",
       "    }\n",
       "</style>\n",
       "<table border=\"1\" class=\"dataframe\">\n",
       "  <thead>\n",
       "    <tr style=\"text-align: right;\">\n",
       "      <th></th>\n",
       "      <th>page</th>\n",
       "      <th>Churned</th>\n",
       "      <th>percent(userId)</th>\n",
       "    </tr>\n",
       "  </thead>\n",
       "  <tbody>\n",
       "    <tr>\n",
       "      <th>0</th>\n",
       "      <td>Submit Downgrade</td>\n",
       "      <td>No</td>\n",
       "      <td>0.0</td>\n",
       "    </tr>\n",
       "    <tr>\n",
       "      <th>1</th>\n",
       "      <td>Thumbs Down</td>\n",
       "      <td>No</td>\n",
       "      <td>0.9</td>\n",
       "    </tr>\n",
       "    <tr>\n",
       "      <th>2</th>\n",
       "      <td>Home</td>\n",
       "      <td>No</td>\n",
       "      <td>3.6</td>\n",
       "    </tr>\n",
       "    <tr>\n",
       "      <th>3</th>\n",
       "      <td>Downgrade</td>\n",
       "      <td>No</td>\n",
       "      <td>0.7</td>\n",
       "    </tr>\n",
       "    <tr>\n",
       "      <th>4</th>\n",
       "      <td>Roll Advert</td>\n",
       "      <td>No</td>\n",
       "      <td>1.3</td>\n",
       "    </tr>\n",
       "    <tr>\n",
       "      <th>5</th>\n",
       "      <td>Logout</td>\n",
       "      <td>No</td>\n",
       "      <td>1.1</td>\n",
       "    </tr>\n",
       "    <tr>\n",
       "      <th>6</th>\n",
       "      <td>Save Settings</td>\n",
       "      <td>No</td>\n",
       "      <td>0.1</td>\n",
       "    </tr>\n",
       "    <tr>\n",
       "      <th>7</th>\n",
       "      <td>About</td>\n",
       "      <td>No</td>\n",
       "      <td>0.2</td>\n",
       "    </tr>\n",
       "    <tr>\n",
       "      <th>8</th>\n",
       "      <td>Settings</td>\n",
       "      <td>No</td>\n",
       "      <td>0.5</td>\n",
       "    </tr>\n",
       "    <tr>\n",
       "      <th>9</th>\n",
       "      <td>Add to Playlist</td>\n",
       "      <td>No</td>\n",
       "      <td>2.4</td>\n",
       "    </tr>\n",
       "    <tr>\n",
       "      <th>10</th>\n",
       "      <td>Add Friend</td>\n",
       "      <td>No</td>\n",
       "      <td>1.6</td>\n",
       "    </tr>\n",
       "    <tr>\n",
       "      <th>11</th>\n",
       "      <td>NextSong</td>\n",
       "      <td>No</td>\n",
       "      <td>82.2</td>\n",
       "    </tr>\n",
       "    <tr>\n",
       "      <th>12</th>\n",
       "      <td>Thumbs Up</td>\n",
       "      <td>No</td>\n",
       "      <td>4.6</td>\n",
       "    </tr>\n",
       "    <tr>\n",
       "      <th>13</th>\n",
       "      <td>Help</td>\n",
       "      <td>No</td>\n",
       "      <td>0.5</td>\n",
       "    </tr>\n",
       "    <tr>\n",
       "      <th>14</th>\n",
       "      <td>Upgrade</td>\n",
       "      <td>No</td>\n",
       "      <td>0.2</td>\n",
       "    </tr>\n",
       "    <tr>\n",
       "      <th>15</th>\n",
       "      <td>Error</td>\n",
       "      <td>No</td>\n",
       "      <td>0.1</td>\n",
       "    </tr>\n",
       "    <tr>\n",
       "      <th>16</th>\n",
       "      <td>Submit Upgrade</td>\n",
       "      <td>No</td>\n",
       "      <td>0.1</td>\n",
       "    </tr>\n",
       "  </tbody>\n",
       "</table>\n",
       "</div>"
      ],
      "text/plain": [
       "                page Churned  percent(userId)\n",
       "0   Submit Downgrade      No              0.0\n",
       "1        Thumbs Down      No              0.9\n",
       "2               Home      No              3.6\n",
       "3          Downgrade      No              0.7\n",
       "4        Roll Advert      No              1.3\n",
       "5             Logout      No              1.1\n",
       "6      Save Settings      No              0.1\n",
       "7              About      No              0.2\n",
       "8           Settings      No              0.5\n",
       "9    Add to Playlist      No              2.4\n",
       "10        Add Friend      No              1.6\n",
       "11          NextSong      No             82.2\n",
       "12         Thumbs Up      No              4.6\n",
       "13              Help      No              0.5\n",
       "14           Upgrade      No              0.2\n",
       "15             Error      No              0.1\n",
       "16    Submit Upgrade      No              0.1"
      ]
     },
     "execution_count": 32,
     "metadata": {},
     "output_type": "execute_result"
    }
   ],
   "source": [
    "active_users['Churned'] = 'No'\n",
    "active_users['percent(userId)'] = round(100*active_users['count(userId)']/np.sum(active_users['count(userId)']),1)\n",
    "active_users = active_users.drop(labels=['count(userId)'],axis=1)\n",
    "active_users"
   ]
  },
  {
   "cell_type": "code",
   "execution_count": 33,
   "metadata": {},
   "outputs": [
    {
     "data": {
      "text/html": [
       "<div>\n",
       "<style scoped>\n",
       "    .dataframe tbody tr th:only-of-type {\n",
       "        vertical-align: middle;\n",
       "    }\n",
       "\n",
       "    .dataframe tbody tr th {\n",
       "        vertical-align: top;\n",
       "    }\n",
       "\n",
       "    .dataframe thead th {\n",
       "        text-align: right;\n",
       "    }\n",
       "</style>\n",
       "<table border=\"1\" class=\"dataframe\">\n",
       "  <thead>\n",
       "    <tr style=\"text-align: right;\">\n",
       "      <th></th>\n",
       "      <th>page</th>\n",
       "      <th>percent(userId)</th>\n",
       "      <th>Churned</th>\n",
       "    </tr>\n",
       "  </thead>\n",
       "  <tbody>\n",
       "    <tr>\n",
       "      <th>0</th>\n",
       "      <td>Cancel</td>\n",
       "      <td>0.1</td>\n",
       "      <td>Yes</td>\n",
       "    </tr>\n",
       "    <tr>\n",
       "      <th>1</th>\n",
       "      <td>Submit Downgrade</td>\n",
       "      <td>0.0</td>\n",
       "      <td>Yes</td>\n",
       "    </tr>\n",
       "    <tr>\n",
       "      <th>2</th>\n",
       "      <td>Thumbs Down</td>\n",
       "      <td>1.1</td>\n",
       "      <td>Yes</td>\n",
       "    </tr>\n",
       "    <tr>\n",
       "      <th>3</th>\n",
       "      <td>Home</td>\n",
       "      <td>3.7</td>\n",
       "      <td>Yes</td>\n",
       "    </tr>\n",
       "    <tr>\n",
       "      <th>4</th>\n",
       "      <td>Downgrade</td>\n",
       "      <td>0.8</td>\n",
       "      <td>Yes</td>\n",
       "    </tr>\n",
       "    <tr>\n",
       "      <th>5</th>\n",
       "      <td>Roll Advert</td>\n",
       "      <td>2.2</td>\n",
       "      <td>Yes</td>\n",
       "    </tr>\n",
       "    <tr>\n",
       "      <th>6</th>\n",
       "      <td>Logout</td>\n",
       "      <td>1.2</td>\n",
       "      <td>Yes</td>\n",
       "    </tr>\n",
       "    <tr>\n",
       "      <th>7</th>\n",
       "      <td>Save Settings</td>\n",
       "      <td>0.1</td>\n",
       "      <td>Yes</td>\n",
       "    </tr>\n",
       "    <tr>\n",
       "      <th>8</th>\n",
       "      <td>Cancellation Confirmation</td>\n",
       "      <td>0.1</td>\n",
       "      <td>Yes</td>\n",
       "    </tr>\n",
       "    <tr>\n",
       "      <th>9</th>\n",
       "      <td>About</td>\n",
       "      <td>0.1</td>\n",
       "      <td>Yes</td>\n",
       "    </tr>\n",
       "    <tr>\n",
       "      <th>10</th>\n",
       "      <td>Settings</td>\n",
       "      <td>0.6</td>\n",
       "      <td>Yes</td>\n",
       "    </tr>\n",
       "    <tr>\n",
       "      <th>11</th>\n",
       "      <td>Add to Playlist</td>\n",
       "      <td>2.3</td>\n",
       "      <td>Yes</td>\n",
       "    </tr>\n",
       "    <tr>\n",
       "      <th>12</th>\n",
       "      <td>Add Friend</td>\n",
       "      <td>1.4</td>\n",
       "      <td>Yes</td>\n",
       "    </tr>\n",
       "    <tr>\n",
       "      <th>13</th>\n",
       "      <td>NextSong</td>\n",
       "      <td>81.1</td>\n",
       "      <td>Yes</td>\n",
       "    </tr>\n",
       "    <tr>\n",
       "      <th>14</th>\n",
       "      <td>Thumbs Up</td>\n",
       "      <td>4.1</td>\n",
       "      <td>Yes</td>\n",
       "    </tr>\n",
       "    <tr>\n",
       "      <th>15</th>\n",
       "      <td>Help</td>\n",
       "      <td>0.5</td>\n",
       "      <td>Yes</td>\n",
       "    </tr>\n",
       "    <tr>\n",
       "      <th>16</th>\n",
       "      <td>Upgrade</td>\n",
       "      <td>0.2</td>\n",
       "      <td>Yes</td>\n",
       "    </tr>\n",
       "    <tr>\n",
       "      <th>17</th>\n",
       "      <td>Error</td>\n",
       "      <td>0.1</td>\n",
       "      <td>Yes</td>\n",
       "    </tr>\n",
       "    <tr>\n",
       "      <th>18</th>\n",
       "      <td>Submit Upgrade</td>\n",
       "      <td>0.1</td>\n",
       "      <td>Yes</td>\n",
       "    </tr>\n",
       "  </tbody>\n",
       "</table>\n",
       "</div>"
      ],
      "text/plain": [
       "                         page  percent(userId) Churned\n",
       "0                      Cancel              0.1     Yes\n",
       "1            Submit Downgrade              0.0     Yes\n",
       "2                 Thumbs Down              1.1     Yes\n",
       "3                        Home              3.7     Yes\n",
       "4                   Downgrade              0.8     Yes\n",
       "5                 Roll Advert              2.2     Yes\n",
       "6                      Logout              1.2     Yes\n",
       "7               Save Settings              0.1     Yes\n",
       "8   Cancellation Confirmation              0.1     Yes\n",
       "9                       About              0.1     Yes\n",
       "10                   Settings              0.6     Yes\n",
       "11            Add to Playlist              2.3     Yes\n",
       "12                 Add Friend              1.4     Yes\n",
       "13                   NextSong             81.1     Yes\n",
       "14                  Thumbs Up              4.1     Yes\n",
       "15                       Help              0.5     Yes\n",
       "16                    Upgrade              0.2     Yes\n",
       "17                      Error              0.1     Yes\n",
       "18             Submit Upgrade              0.1     Yes"
      ]
     },
     "execution_count": 33,
     "metadata": {},
     "output_type": "execute_result"
    }
   ],
   "source": [
    "churned_users['percent(userId)'] = round(100*churned_users['count(userId)']/np.sum(churned_users['count(userId)']),1)\n",
    "churned_users['Churned'] = 'Yes'\n",
    "churned_users = churned_users.drop(labels=['count(userId)'],axis=1)\n",
    "churned_users"
   ]
  },
  {
   "cell_type": "code",
   "execution_count": 34,
   "metadata": {},
   "outputs": [],
   "source": [
    "concat_users = pd.concat([churned_users,active_users],sort=False)"
   ]
  },
  {
   "cell_type": "code",
   "execution_count": 35,
   "metadata": {},
   "outputs": [
    {
     "data": {
      "text/html": [
       "<div>\n",
       "<style scoped>\n",
       "    .dataframe tbody tr th:only-of-type {\n",
       "        vertical-align: middle;\n",
       "    }\n",
       "\n",
       "    .dataframe tbody tr th {\n",
       "        vertical-align: top;\n",
       "    }\n",
       "\n",
       "    .dataframe thead th {\n",
       "        text-align: right;\n",
       "    }\n",
       "</style>\n",
       "<table border=\"1\" class=\"dataframe\">\n",
       "  <thead>\n",
       "    <tr style=\"text-align: right;\">\n",
       "      <th></th>\n",
       "      <th>page</th>\n",
       "      <th>percent(userId)</th>\n",
       "      <th>Churned</th>\n",
       "    </tr>\n",
       "  </thead>\n",
       "  <tbody>\n",
       "    <tr>\n",
       "      <th>0</th>\n",
       "      <td>Cancel</td>\n",
       "      <td>0.1</td>\n",
       "      <td>Yes</td>\n",
       "    </tr>\n",
       "    <tr>\n",
       "      <th>1</th>\n",
       "      <td>Submit Downgrade</td>\n",
       "      <td>0.0</td>\n",
       "      <td>Yes</td>\n",
       "    </tr>\n",
       "    <tr>\n",
       "      <th>2</th>\n",
       "      <td>Thumbs Down</td>\n",
       "      <td>1.1</td>\n",
       "      <td>Yes</td>\n",
       "    </tr>\n",
       "    <tr>\n",
       "      <th>3</th>\n",
       "      <td>Home</td>\n",
       "      <td>3.7</td>\n",
       "      <td>Yes</td>\n",
       "    </tr>\n",
       "    <tr>\n",
       "      <th>4</th>\n",
       "      <td>Downgrade</td>\n",
       "      <td>0.8</td>\n",
       "      <td>Yes</td>\n",
       "    </tr>\n",
       "    <tr>\n",
       "      <th>5</th>\n",
       "      <td>Roll Advert</td>\n",
       "      <td>2.2</td>\n",
       "      <td>Yes</td>\n",
       "    </tr>\n",
       "    <tr>\n",
       "      <th>6</th>\n",
       "      <td>Logout</td>\n",
       "      <td>1.2</td>\n",
       "      <td>Yes</td>\n",
       "    </tr>\n",
       "    <tr>\n",
       "      <th>7</th>\n",
       "      <td>Save Settings</td>\n",
       "      <td>0.1</td>\n",
       "      <td>Yes</td>\n",
       "    </tr>\n",
       "    <tr>\n",
       "      <th>8</th>\n",
       "      <td>Cancellation Confirmation</td>\n",
       "      <td>0.1</td>\n",
       "      <td>Yes</td>\n",
       "    </tr>\n",
       "    <tr>\n",
       "      <th>9</th>\n",
       "      <td>About</td>\n",
       "      <td>0.1</td>\n",
       "      <td>Yes</td>\n",
       "    </tr>\n",
       "    <tr>\n",
       "      <th>10</th>\n",
       "      <td>Settings</td>\n",
       "      <td>0.6</td>\n",
       "      <td>Yes</td>\n",
       "    </tr>\n",
       "    <tr>\n",
       "      <th>11</th>\n",
       "      <td>Add to Playlist</td>\n",
       "      <td>2.3</td>\n",
       "      <td>Yes</td>\n",
       "    </tr>\n",
       "    <tr>\n",
       "      <th>12</th>\n",
       "      <td>Add Friend</td>\n",
       "      <td>1.4</td>\n",
       "      <td>Yes</td>\n",
       "    </tr>\n",
       "    <tr>\n",
       "      <th>13</th>\n",
       "      <td>NextSong</td>\n",
       "      <td>81.1</td>\n",
       "      <td>Yes</td>\n",
       "    </tr>\n",
       "    <tr>\n",
       "      <th>14</th>\n",
       "      <td>Thumbs Up</td>\n",
       "      <td>4.1</td>\n",
       "      <td>Yes</td>\n",
       "    </tr>\n",
       "    <tr>\n",
       "      <th>15</th>\n",
       "      <td>Help</td>\n",
       "      <td>0.5</td>\n",
       "      <td>Yes</td>\n",
       "    </tr>\n",
       "    <tr>\n",
       "      <th>16</th>\n",
       "      <td>Upgrade</td>\n",
       "      <td>0.2</td>\n",
       "      <td>Yes</td>\n",
       "    </tr>\n",
       "    <tr>\n",
       "      <th>17</th>\n",
       "      <td>Error</td>\n",
       "      <td>0.1</td>\n",
       "      <td>Yes</td>\n",
       "    </tr>\n",
       "    <tr>\n",
       "      <th>18</th>\n",
       "      <td>Submit Upgrade</td>\n",
       "      <td>0.1</td>\n",
       "      <td>Yes</td>\n",
       "    </tr>\n",
       "    <tr>\n",
       "      <th>0</th>\n",
       "      <td>Submit Downgrade</td>\n",
       "      <td>0.0</td>\n",
       "      <td>No</td>\n",
       "    </tr>\n",
       "    <tr>\n",
       "      <th>1</th>\n",
       "      <td>Thumbs Down</td>\n",
       "      <td>0.9</td>\n",
       "      <td>No</td>\n",
       "    </tr>\n",
       "    <tr>\n",
       "      <th>2</th>\n",
       "      <td>Home</td>\n",
       "      <td>3.6</td>\n",
       "      <td>No</td>\n",
       "    </tr>\n",
       "    <tr>\n",
       "      <th>3</th>\n",
       "      <td>Downgrade</td>\n",
       "      <td>0.7</td>\n",
       "      <td>No</td>\n",
       "    </tr>\n",
       "    <tr>\n",
       "      <th>4</th>\n",
       "      <td>Roll Advert</td>\n",
       "      <td>1.3</td>\n",
       "      <td>No</td>\n",
       "    </tr>\n",
       "    <tr>\n",
       "      <th>5</th>\n",
       "      <td>Logout</td>\n",
       "      <td>1.1</td>\n",
       "      <td>No</td>\n",
       "    </tr>\n",
       "    <tr>\n",
       "      <th>6</th>\n",
       "      <td>Save Settings</td>\n",
       "      <td>0.1</td>\n",
       "      <td>No</td>\n",
       "    </tr>\n",
       "    <tr>\n",
       "      <th>7</th>\n",
       "      <td>About</td>\n",
       "      <td>0.2</td>\n",
       "      <td>No</td>\n",
       "    </tr>\n",
       "    <tr>\n",
       "      <th>8</th>\n",
       "      <td>Settings</td>\n",
       "      <td>0.5</td>\n",
       "      <td>No</td>\n",
       "    </tr>\n",
       "    <tr>\n",
       "      <th>9</th>\n",
       "      <td>Add to Playlist</td>\n",
       "      <td>2.4</td>\n",
       "      <td>No</td>\n",
       "    </tr>\n",
       "    <tr>\n",
       "      <th>10</th>\n",
       "      <td>Add Friend</td>\n",
       "      <td>1.6</td>\n",
       "      <td>No</td>\n",
       "    </tr>\n",
       "    <tr>\n",
       "      <th>11</th>\n",
       "      <td>NextSong</td>\n",
       "      <td>82.2</td>\n",
       "      <td>No</td>\n",
       "    </tr>\n",
       "    <tr>\n",
       "      <th>12</th>\n",
       "      <td>Thumbs Up</td>\n",
       "      <td>4.6</td>\n",
       "      <td>No</td>\n",
       "    </tr>\n",
       "    <tr>\n",
       "      <th>13</th>\n",
       "      <td>Help</td>\n",
       "      <td>0.5</td>\n",
       "      <td>No</td>\n",
       "    </tr>\n",
       "    <tr>\n",
       "      <th>14</th>\n",
       "      <td>Upgrade</td>\n",
       "      <td>0.2</td>\n",
       "      <td>No</td>\n",
       "    </tr>\n",
       "    <tr>\n",
       "      <th>15</th>\n",
       "      <td>Error</td>\n",
       "      <td>0.1</td>\n",
       "      <td>No</td>\n",
       "    </tr>\n",
       "    <tr>\n",
       "      <th>16</th>\n",
       "      <td>Submit Upgrade</td>\n",
       "      <td>0.1</td>\n",
       "      <td>No</td>\n",
       "    </tr>\n",
       "  </tbody>\n",
       "</table>\n",
       "</div>"
      ],
      "text/plain": [
       "                         page  percent(userId) Churned\n",
       "0                      Cancel              0.1     Yes\n",
       "1            Submit Downgrade              0.0     Yes\n",
       "2                 Thumbs Down              1.1     Yes\n",
       "3                        Home              3.7     Yes\n",
       "4                   Downgrade              0.8     Yes\n",
       "5                 Roll Advert              2.2     Yes\n",
       "6                      Logout              1.2     Yes\n",
       "7               Save Settings              0.1     Yes\n",
       "8   Cancellation Confirmation              0.1     Yes\n",
       "9                       About              0.1     Yes\n",
       "10                   Settings              0.6     Yes\n",
       "11            Add to Playlist              2.3     Yes\n",
       "12                 Add Friend              1.4     Yes\n",
       "13                   NextSong             81.1     Yes\n",
       "14                  Thumbs Up              4.1     Yes\n",
       "15                       Help              0.5     Yes\n",
       "16                    Upgrade              0.2     Yes\n",
       "17                      Error              0.1     Yes\n",
       "18             Submit Upgrade              0.1     Yes\n",
       "0            Submit Downgrade              0.0      No\n",
       "1                 Thumbs Down              0.9      No\n",
       "2                        Home              3.6      No\n",
       "3                   Downgrade              0.7      No\n",
       "4                 Roll Advert              1.3      No\n",
       "5                      Logout              1.1      No\n",
       "6               Save Settings              0.1      No\n",
       "7                       About              0.2      No\n",
       "8                    Settings              0.5      No\n",
       "9             Add to Playlist              2.4      No\n",
       "10                 Add Friend              1.6      No\n",
       "11                   NextSong             82.2      No\n",
       "12                  Thumbs Up              4.6      No\n",
       "13                       Help              0.5      No\n",
       "14                    Upgrade              0.2      No\n",
       "15                      Error              0.1      No\n",
       "16             Submit Upgrade              0.1      No"
      ]
     },
     "execution_count": 35,
     "metadata": {},
     "output_type": "execute_result"
    }
   ],
   "source": [
    "concat_users"
   ]
  },
  {
   "cell_type": "code",
   "execution_count": 36,
   "metadata": {},
   "outputs": [
    {
     "data": {
      "image/png": "[encoded data removed]",
      "text/plain": [
       "<matplotlib.figure.Figure at 0x7f0580f57710>"
      ]
     },
     "metadata": {
      "needs_background": "light"
     },
     "output_type": "display_data"
    }
   ],
   "source": [
    "fig=plt.figure(figsize=(20,15))\n",
    "sns.set(font_scale=2)\n",
    "snsbp = sns.barplot(data=concat_users,x='percent(userId)',y='page',capsize=0.2,hue='Churned');\n",
    "snsbp.set_xticklabels(snsbp.get_xticklabels(), rotation=90,minor=True);\n",
    "\n"
   ]
  },
  {
   "cell_type": "raw",
   "metadata": {},
   "source": [
    "So a few assumptions can be made from the graph above:\n",
    "\n",
    "Churned users seems to have more tendency to 'Thumb down' , 'logout' and 'roll advert' while clicking less on 'Add Friend' \n",
    "These are indicators that they might not like the service and hence desire to unsubscribe it.\n",
    "\n",
    "On the other hand, active users like to add more friends, and to thumbs up as they like the service\n",
    "    "
   ]
  },
  {
   "cell_type": "markdown",
   "metadata": {},
   "source": [
    "#### analysis based on time series (hours, days)"
   ]
  },
  {
   "cell_type": "raw",
   "metadata": {},
   "source": [
    "Let's start to use the ts column to add more time dimensions (hours, weekday)"
   ]
  },
  {
   "cell_type": "code",
   "execution_count": 37,
   "metadata": {},
   "outputs": [],
   "source": [
    "get_hour = udf(lambda x: datetime.datetime.fromtimestamp(x / 1000.0).hour)\n",
    "get_weekday = udf(lambda x: datetime.datetime.fromtimestamp(x / 1000.0).strftime(\"%w\"))\n",
    "get_month = udf(lambda x: datetime.datetime.fromtimestamp(x / 1000.0).strftime(\"%m\"))\n",
    "\n",
    "df_valid = df_valid.withColumn(\"hour\", get_hour(df_valid.ts))\n",
    "df_valid = df_valid.withColumn(\"weekday\", get_weekday(df_valid.ts))\n",
    "df_valid = df_valid.withColumn(\"month\", get_month(df_valid.ts))"
   ]
  },
  {
   "cell_type": "code",
   "execution_count": 38,
   "metadata": {},
   "outputs": [
    {
     "name": "stdout",
     "output_type": "stream",
     "text": [
      "+------+---------+----+-------+-----+\n",
      "|userId|firstName|hour|weekday|month|\n",
      "+------+---------+----+-------+-----+\n",
      "|    30|    Colin|   0|      1|   10|\n",
      "|    30|    Colin|   0|      1|   10|\n",
      "|    30|    Colin|   0|      1|   10|\n",
      "|    30|    Colin|   0|      1|   10|\n",
      "|    30|    Colin|   0|      1|   10|\n",
      "|    30|    Colin|   0|      1|   10|\n",
      "|    30|    Colin|   0|      1|   10|\n",
      "|    30|    Colin|   0|      1|   10|\n",
      "|    30|    Colin|   0|      1|   10|\n",
      "|    30|    Colin|   0|      1|   10|\n",
      "|    30|    Colin|   0|      1|   10|\n",
      "|    30|    Colin|   0|      1|   10|\n",
      "|    30|    Colin|   0|      1|   10|\n",
      "|    30|    Colin|   0|      1|   10|\n",
      "|    30|    Colin|   0|      1|   10|\n",
      "|    30|    Colin|   0|      1|   10|\n",
      "|    30|    Colin|   0|      1|   10|\n",
      "|    30|    Colin|   1|      1|   10|\n",
      "|    30|    Colin|   1|      1|   10|\n",
      "|    30|    Colin|   1|      1|   10|\n",
      "+------+---------+----+-------+-----+\n",
      "only showing top 20 rows\n",
      "\n"
     ]
    }
   ],
   "source": [
    "df_valid.select(['userId','firstName','hour','weekday','month']).where(df_valid.userId == 30).show()"
   ]
  },
  {
   "cell_type": "code",
   "execution_count": 39,
   "metadata": {},
   "outputs": [],
   "source": [
    "songs_in_hour = df_valid.filter(df_valid.page == \"NextSong\").groupby(df_valid.hour).count().orderBy(df_valid.hour.cast(\"float\"))"
   ]
  },
  {
   "cell_type": "code",
   "execution_count": 40,
   "metadata": {},
   "outputs": [
    {
     "name": "stdout",
     "output_type": "stream",
     "text": [
      "+----+-----+\n",
      "|hour|count|\n",
      "+----+-----+\n",
      "|   0| 9062|\n",
      "|   1| 8388|\n",
      "|   2| 8336|\n",
      "|   3| 8355|\n",
      "|   4| 8147|\n",
      "|   5| 8178|\n",
      "|   6| 8054|\n",
      "|   7| 8091|\n",
      "|   8| 8253|\n",
      "|   9| 8498|\n",
      "|  10| 8882|\n",
      "|  11| 8830|\n",
      "|  12| 9326|\n",
      "|  13| 9644|\n",
      "|  14|10494|\n",
      "|  15|11354|\n",
      "|  16|11636|\n",
      "|  17|11460|\n",
      "|  18|11124|\n",
      "|  19|10930|\n",
      "|  20|10856|\n",
      "|  21|10458|\n",
      "|  22|10122|\n",
      "|  23| 9630|\n",
      "+----+-----+\n",
      "\n"
     ]
    }
   ],
   "source": [
    "songs_in_hour.show(24)"
   ]
  },
  {
   "cell_type": "code",
   "execution_count": 41,
   "metadata": {},
   "outputs": [],
   "source": [
    "songs_in_weekday = df_valid.filter(df_valid.page == \"NextSong\").groupby(df_valid.weekday).count().orderBy(df_valid.weekday.cast(\"float\"))"
   ]
  },
  {
   "cell_type": "code",
   "execution_count": 42,
   "metadata": {},
   "outputs": [
    {
     "name": "stdout",
     "output_type": "stream",
     "text": [
      "+-------+-----+\n",
      "|weekday|count|\n",
      "+-------+-----+\n",
      "|      0|17370|\n",
      "|      1|35373|\n",
      "|      2|38830|\n",
      "|      3|37675|\n",
      "|      4|36300|\n",
      "|      5|39514|\n",
      "|      6|23046|\n",
      "+-------+-----+\n",
      "\n"
     ]
    }
   ],
   "source": [
    "songs_in_weekday.show()"
   ]
  },
  {
   "cell_type": "code",
   "execution_count": 43,
   "metadata": {},
   "outputs": [],
   "source": [
    "songs_churned_hour = df_valid[df_valid.Churn == 1].filter(df_valid.page == 'NextSong').groupby(df_valid.hour).count().orderBy(df_valid.hour.cast(\"float\")).toPandas()\n",
    "songs_active_hour = df_valid[df_valid.Churn == 0].filter(df_valid.page == 'NextSong').groupby(df_valid.hour).count().orderBy(df_valid.hour.cast(\"float\")).toPandas()\n",
    "songs_churned_hour['Churned'] = 'Yes'\n",
    "songs_active_hour['Churned'] = 'No'\n",
    "concat_songs_hour_users = pd.concat([songs_active_hour,songs_churned_hour],sort=False)"
   ]
  },
  {
   "cell_type": "code",
   "execution_count": 44,
   "metadata": {},
   "outputs": [
    {
     "data": {
      "image/png": "[encoded data removed]",
      "text/plain": [
       "<matplotlib.figure.Figure at 0x7f05804ec550>"
      ]
     },
     "metadata": {},
     "output_type": "display_data"
    }
   ],
   "source": [
    "fig=plt.figure(figsize=(20,10))\n",
    "sns.set(font_scale=2)\n",
    "snsbp = sns.barplot(data=concat_songs_hour_users,x='hour',y='count',capsize=0.2,hue='Churned',\\\n",
    "                    order=[\"0\",\"1\",\"2\",\"3\",\"4\",\"5\",\"6\",\"7\",\"8\",\"9\",\"10\",\"11\",\"12\",\"13\",\"14\",\"15\",\"16\",\"17\",\"18\",\"19\",\"20\",\"21\",\"22\",\"23\"]);\n",
    "snsbp.set_xticklabels(snsbp.get_xticklabels(), rotation=90,minor=True);"
   ]
  },
  {
   "cell_type": "markdown",
   "metadata": {},
   "source": [
    "Churned users seem to be more active in the afternoon until beginning of the evening, while the paid users seems to be more activte even during the evening - midnight"
   ]
  },
  {
   "cell_type": "code",
   "execution_count": 45,
   "metadata": {},
   "outputs": [],
   "source": [
    "songs_churned_weekday = df_valid[df_valid.Churn == 1].filter(df_valid.page == 'NextSong').groupby(df_valid.weekday).count().orderBy(df_valid.weekday.cast(\"float\")).toPandas()\n",
    "songs_active_weekday = df_valid[df_valid.Churn == 0].filter(df_valid.page == 'NextSong').groupby(df_valid.weekday).count().orderBy(df_valid.weekday.cast(\"float\")).toPandas()\n",
    "songs_churned_weekday['Churned'] = 'Yes'\n",
    "songs_active_weekday['Churned'] = 'No'\n",
    "concat_songs_wd_users = pd.concat([songs_active_weekday,songs_churned_weekday],sort=False)"
   ]
  },
  {
   "cell_type": "code",
   "execution_count": 46,
   "metadata": {},
   "outputs": [
    {
     "data": {
      "image/png": "[encoded data removed]",
      "text/plain": [
       "<matplotlib.figure.Figure at 0x7f0580c75470>"
      ]
     },
     "metadata": {},
     "output_type": "display_data"
    }
   ],
   "source": [
    "fig=plt.figure(figsize=(20,10))\n",
    "sns.set(font_scale=2)\n",
    "snsbp = sns.barplot(data=concat_songs_wd_users,x='weekday',y='count',capsize=0.2,hue='Churned',) \n",
    "                    \n",
    "snsbp.set_xticklabels(['Mon', 'Tue', 'Wed', 'Thu', 'Fri', 'Sat', 'Sun'], rotation=90,minor=True);"
   ]
  },
  {
   "cell_type": "markdown",
   "metadata": {},
   "source": [
    "For churned users, there isn't such a peak of consumption on Saturday like for the paid users"
   ]
  },
  {
   "cell_type": "markdown",
   "metadata": {},
   "source": [
    "# Feature Engineering\n",
    "In this section we are going to engineer a few features that will be used to train the machine learning model"
   ]
  },
  {
   "cell_type": "raw",
   "metadata": {},
   "source": [
    "Here are the features that sound interesting to me to predict churn\n",
    "\n",
    "1) gender (M/F)\n",
    "2) payment level (paid or free)\n",
    "3) Number of Thumbs down and number of thumbs up (appreciation of the service quality)\n",
    "4) Number total of songs played by the user (indication of the duration of his subscription)\n",
    "5) Number of days spent since the user registration\n",
    "6) average amount of songs played during a session\n",
    "7) number of songs added by the user to playlist\n",
    "8) Number of friends added to the service\n",
    "9) proportion of roll adverts"
   ]
  },
  {
   "cell_type": "markdown",
   "metadata": {},
   "source": [
    "1) gender"
   ]
  },
  {
   "cell_type": "code",
   "execution_count": 98,
   "metadata": {},
   "outputs": [
    {
     "data": {
      "text/html": [
       "<div>\n",
       "<style scoped>\n",
       "    .dataframe tbody tr th:only-of-type {\n",
       "        vertical-align: middle;\n",
       "    }\n",
       "\n",
       "    .dataframe tbody tr th {\n",
       "        vertical-align: top;\n",
       "    }\n",
       "\n",
       "    .dataframe thead th {\n",
       "        text-align: right;\n",
       "    }\n",
       "</style>\n",
       "<table border=\"1\" class=\"dataframe\">\n",
       "  <thead>\n",
       "    <tr style=\"text-align: right;\">\n",
       "      <th></th>\n",
       "      <th>userId</th>\n",
       "      <th>gender</th>\n",
       "    </tr>\n",
       "  </thead>\n",
       "  <tbody>\n",
       "    <tr>\n",
       "      <th>0</th>\n",
       "      <td>100010</td>\n",
       "      <td>0</td>\n",
       "    </tr>\n",
       "    <tr>\n",
       "      <th>1</th>\n",
       "      <td>200002</td>\n",
       "      <td>1</td>\n",
       "    </tr>\n",
       "    <tr>\n",
       "      <th>2</th>\n",
       "      <td>125</td>\n",
       "      <td>1</td>\n",
       "    </tr>\n",
       "    <tr>\n",
       "      <th>3</th>\n",
       "      <td>124</td>\n",
       "      <td>0</td>\n",
       "    </tr>\n",
       "    <tr>\n",
       "      <th>4</th>\n",
       "      <td>51</td>\n",
       "      <td>1</td>\n",
       "    </tr>\n",
       "  </tbody>\n",
       "</table>\n",
       "</div>"
      ],
      "text/plain": [
       "   userId  gender\n",
       "0  100010       0\n",
       "1  200002       1\n",
       "2     125       1\n",
       "3     124       0\n",
       "4      51       1"
      ]
     },
     "execution_count": 98,
     "metadata": {},
     "output_type": "execute_result"
    }
   ],
   "source": [
    "df_gender = df_valid.select(['userId','gender']).dropDuplicates(['userId']).toPandas()\n",
    "df_gender = df_gender.replace({'F' : 0, 'M' : 1})\n",
    "df_gender.head()"
   ]
  },
  {
   "cell_type": "markdown",
   "metadata": {},
   "source": [
    "2) payment level (paid or free)"
   ]
  },
  {
   "cell_type": "code",
   "execution_count": 99,
   "metadata": {},
   "outputs": [
    {
     "data": {
      "text/html": [
       "<div>\n",
       "<style scoped>\n",
       "    .dataframe tbody tr th:only-of-type {\n",
       "        vertical-align: middle;\n",
       "    }\n",
       "\n",
       "    .dataframe tbody tr th {\n",
       "        vertical-align: top;\n",
       "    }\n",
       "\n",
       "    .dataframe thead th {\n",
       "        text-align: right;\n",
       "    }\n",
       "</style>\n",
       "<table border=\"1\" class=\"dataframe\">\n",
       "  <thead>\n",
       "    <tr style=\"text-align: right;\">\n",
       "      <th></th>\n",
       "      <th>userId</th>\n",
       "      <th>level</th>\n",
       "    </tr>\n",
       "  </thead>\n",
       "  <tbody>\n",
       "    <tr>\n",
       "      <th>0</th>\n",
       "      <td>100010</td>\n",
       "      <td>0</td>\n",
       "    </tr>\n",
       "    <tr>\n",
       "      <th>1</th>\n",
       "      <td>200002</td>\n",
       "      <td>0</td>\n",
       "    </tr>\n",
       "    <tr>\n",
       "      <th>2</th>\n",
       "      <td>125</td>\n",
       "      <td>0</td>\n",
       "    </tr>\n",
       "    <tr>\n",
       "      <th>3</th>\n",
       "      <td>124</td>\n",
       "      <td>1</td>\n",
       "    </tr>\n",
       "    <tr>\n",
       "      <th>4</th>\n",
       "      <td>51</td>\n",
       "      <td>1</td>\n",
       "    </tr>\n",
       "  </tbody>\n",
       "</table>\n",
       "</div>"
      ],
      "text/plain": [
       "   userId  level\n",
       "0  100010      0\n",
       "1  200002      0\n",
       "2     125      0\n",
       "3     124      1\n",
       "4      51      1"
      ]
     },
     "execution_count": 99,
     "metadata": {},
     "output_type": "execute_result"
    }
   ],
   "source": [
    "df_level = df_valid.select(['userId','level']).dropDuplicates(['userId']).toPandas()\n",
    "df_level.replace(['paid','free'],[1,0],inplace=True)\n",
    "df_level.head()"
   ]
  },
  {
   "cell_type": "markdown",
   "metadata": {},
   "source": [
    "3) thumbs up / down"
   ]
  },
  {
   "cell_type": "code",
   "execution_count": 100,
   "metadata": {},
   "outputs": [
    {
     "data": {
      "text/html": [
       "<div>\n",
       "<style scoped>\n",
       "    .dataframe tbody tr th:only-of-type {\n",
       "        vertical-align: middle;\n",
       "    }\n",
       "\n",
       "    .dataframe tbody tr th {\n",
       "        vertical-align: top;\n",
       "    }\n",
       "\n",
       "    .dataframe thead th {\n",
       "        text-align: right;\n",
       "    }\n",
       "</style>\n",
       "<table border=\"1\" class=\"dataframe\">\n",
       "  <thead>\n",
       "    <tr style=\"text-align: right;\">\n",
       "      <th></th>\n",
       "      <th>userId</th>\n",
       "      <th>thumbsup</th>\n",
       "    </tr>\n",
       "  </thead>\n",
       "  <tbody>\n",
       "    <tr>\n",
       "      <th>0</th>\n",
       "      <td>100010</td>\n",
       "      <td>17</td>\n",
       "    </tr>\n",
       "    <tr>\n",
       "      <th>1</th>\n",
       "      <td>200002</td>\n",
       "      <td>21</td>\n",
       "    </tr>\n",
       "    <tr>\n",
       "      <th>2</th>\n",
       "      <td>51</td>\n",
       "      <td>100</td>\n",
       "    </tr>\n",
       "    <tr>\n",
       "      <th>3</th>\n",
       "      <td>124</td>\n",
       "      <td>171</td>\n",
       "    </tr>\n",
       "    <tr>\n",
       "      <th>4</th>\n",
       "      <td>7</td>\n",
       "      <td>7</td>\n",
       "    </tr>\n",
       "  </tbody>\n",
       "</table>\n",
       "</div>"
      ],
      "text/plain": [
       "   userId  thumbsup\n",
       "0  100010        17\n",
       "1  200002        21\n",
       "2      51       100\n",
       "3     124       171\n",
       "4       7         7"
      ]
     },
     "execution_count": 100,
     "metadata": {},
     "output_type": "execute_result"
    }
   ],
   "source": [
    "df_thumbsup = df_valid.select(['userId','page']).filter(df_valid.page == 'Thumbs Up').\\\n",
    "                groupby('userId').count().toPandas()\n",
    "df_thumbsup.rename(columns={'count':'thumbsup'},inplace=True)\n",
    "df_thumbsup.head()"
   ]
  },
  {
   "cell_type": "code",
   "execution_count": 101,
   "metadata": {},
   "outputs": [
    {
     "data": {
      "text/html": [
       "<div>\n",
       "<style scoped>\n",
       "    .dataframe tbody tr th:only-of-type {\n",
       "        vertical-align: middle;\n",
       "    }\n",
       "\n",
       "    .dataframe tbody tr th {\n",
       "        vertical-align: top;\n",
       "    }\n",
       "\n",
       "    .dataframe thead th {\n",
       "        text-align: right;\n",
       "    }\n",
       "</style>\n",
       "<table border=\"1\" class=\"dataframe\">\n",
       "  <thead>\n",
       "    <tr style=\"text-align: right;\">\n",
       "      <th></th>\n",
       "      <th>userId</th>\n",
       "      <th>thumbsdown</th>\n",
       "    </tr>\n",
       "  </thead>\n",
       "  <tbody>\n",
       "    <tr>\n",
       "      <th>0</th>\n",
       "      <td>100010</td>\n",
       "      <td>5</td>\n",
       "    </tr>\n",
       "    <tr>\n",
       "      <th>1</th>\n",
       "      <td>200002</td>\n",
       "      <td>6</td>\n",
       "    </tr>\n",
       "    <tr>\n",
       "      <th>2</th>\n",
       "      <td>51</td>\n",
       "      <td>21</td>\n",
       "    </tr>\n",
       "    <tr>\n",
       "      <th>3</th>\n",
       "      <td>124</td>\n",
       "      <td>41</td>\n",
       "    </tr>\n",
       "    <tr>\n",
       "      <th>4</th>\n",
       "      <td>7</td>\n",
       "      <td>1</td>\n",
       "    </tr>\n",
       "  </tbody>\n",
       "</table>\n",
       "</div>"
      ],
      "text/plain": [
       "   userId  thumbsdown\n",
       "0  100010           5\n",
       "1  200002           6\n",
       "2      51          21\n",
       "3     124          41\n",
       "4       7           1"
      ]
     },
     "execution_count": 101,
     "metadata": {},
     "output_type": "execute_result"
    }
   ],
   "source": [
    "df_thumbsdown = df_valid.select(['userId','page']).filter(df_valid.page == 'Thumbs Down').\\\n",
    "                groupby('userId').count().toPandas()\n",
    "df_thumbsdown.rename(columns={'count':'thumbsdown'},inplace=True)\n",
    "df_thumbsdown.head()"
   ]
  },
  {
   "cell_type": "markdown",
   "metadata": {},
   "source": [
    "4) Number total of songs played by the user since the registration"
   ]
  },
  {
   "cell_type": "code",
   "execution_count": 102,
   "metadata": {},
   "outputs": [
    {
     "data": {
      "text/html": [
       "<div>\n",
       "<style scoped>\n",
       "    .dataframe tbody tr th:only-of-type {\n",
       "        vertical-align: middle;\n",
       "    }\n",
       "\n",
       "    .dataframe tbody tr th {\n",
       "        vertical-align: top;\n",
       "    }\n",
       "\n",
       "    .dataframe thead th {\n",
       "        text-align: right;\n",
       "    }\n",
       "</style>\n",
       "<table border=\"1\" class=\"dataframe\">\n",
       "  <thead>\n",
       "    <tr style=\"text-align: right;\">\n",
       "      <th></th>\n",
       "      <th>userId</th>\n",
       "      <th>nbsongs</th>\n",
       "    </tr>\n",
       "  </thead>\n",
       "  <tbody>\n",
       "    <tr>\n",
       "      <th>0</th>\n",
       "      <td>100010</td>\n",
       "      <td>381</td>\n",
       "    </tr>\n",
       "    <tr>\n",
       "      <th>1</th>\n",
       "      <td>200002</td>\n",
       "      <td>474</td>\n",
       "    </tr>\n",
       "    <tr>\n",
       "      <th>2</th>\n",
       "      <td>125</td>\n",
       "      <td>11</td>\n",
       "    </tr>\n",
       "    <tr>\n",
       "      <th>3</th>\n",
       "      <td>51</td>\n",
       "      <td>2464</td>\n",
       "    </tr>\n",
       "    <tr>\n",
       "      <th>4</th>\n",
       "      <td>124</td>\n",
       "      <td>4825</td>\n",
       "    </tr>\n",
       "  </tbody>\n",
       "</table>\n",
       "</div>"
      ],
      "text/plain": [
       "   userId  nbsongs\n",
       "0  100010      381\n",
       "1  200002      474\n",
       "2     125       11\n",
       "3      51     2464\n",
       "4     124     4825"
      ]
     },
     "execution_count": 102,
     "metadata": {},
     "output_type": "execute_result"
    }
   ],
   "source": [
    "df_songs = df_valid.select(['userId','song']).groupby('userId').count().toPandas()\n",
    "df_songs.rename(columns={\"count\":\"nbsongs\"},inplace=True)\n",
    "df_songs.head()"
   ]
  },
  {
   "cell_type": "markdown",
   "metadata": {},
   "source": [
    "5) Number of day spent using the service since registration date"
   ]
  },
  {
   "cell_type": "code",
   "execution_count": 103,
   "metadata": {},
   "outputs": [
    {
     "data": {
      "text/html": [
       "<div>\n",
       "<style scoped>\n",
       "    .dataframe tbody tr th:only-of-type {\n",
       "        vertical-align: middle;\n",
       "    }\n",
       "\n",
       "    .dataframe tbody tr th {\n",
       "        vertical-align: top;\n",
       "    }\n",
       "\n",
       "    .dataframe thead th {\n",
       "        text-align: right;\n",
       "    }\n",
       "</style>\n",
       "<table border=\"1\" class=\"dataframe\">\n",
       "  <thead>\n",
       "    <tr style=\"text-align: right;\">\n",
       "      <th></th>\n",
       "      <th>userId</th>\n",
       "      <th>max(timesincereg)</th>\n",
       "    </tr>\n",
       "  </thead>\n",
       "  <tbody>\n",
       "    <tr>\n",
       "      <th>0</th>\n",
       "      <td>100010</td>\n",
       "      <td>55.643657</td>\n",
       "    </tr>\n",
       "    <tr>\n",
       "      <th>1</th>\n",
       "      <td>200002</td>\n",
       "      <td>70.074630</td>\n",
       "    </tr>\n",
       "    <tr>\n",
       "      <th>2</th>\n",
       "      <td>125</td>\n",
       "      <td>71.316887</td>\n",
       "    </tr>\n",
       "    <tr>\n",
       "      <th>3</th>\n",
       "      <td>51</td>\n",
       "      <td>19.455845</td>\n",
       "    </tr>\n",
       "    <tr>\n",
       "      <th>4</th>\n",
       "      <td>124</td>\n",
       "      <td>131.555914</td>\n",
       "    </tr>\n",
       "  </tbody>\n",
       "</table>\n",
       "</div>"
      ],
      "text/plain": [
       "   userId  max(timesincereg)\n",
       "0  100010          55.643657\n",
       "1  200002          70.074630\n",
       "2     125          71.316887\n",
       "3      51          19.455845\n",
       "4     124         131.555914"
      ]
     },
     "execution_count": 103,
     "metadata": {},
     "output_type": "execute_result"
    }
   ],
   "source": [
    "df_timesincereg = df_valid.withColumn(\"timesincereg\" , (ds['ts']-ds['registration'])/(1000*60*60*24))\\\n",
    "                    .select(['userId','timesincereg']).groupby('userId').max('timesincereg').toPandas()\n",
    "df_timesincereg.head()"
   ]
  },
  {
   "cell_type": "markdown",
   "metadata": {},
   "source": [
    "6) average number of songs played per session per userId"
   ]
  },
  {
   "cell_type": "code",
   "execution_count": 104,
   "metadata": {},
   "outputs": [
    {
     "data": {
      "text/html": [
       "<div>\n",
       "<style scoped>\n",
       "    .dataframe tbody tr th:only-of-type {\n",
       "        vertical-align: middle;\n",
       "    }\n",
       "\n",
       "    .dataframe tbody tr th {\n",
       "        vertical-align: top;\n",
       "    }\n",
       "\n",
       "    .dataframe thead th {\n",
       "        text-align: right;\n",
       "    }\n",
       "</style>\n",
       "<table border=\"1\" class=\"dataframe\">\n",
       "  <thead>\n",
       "    <tr style=\"text-align: right;\">\n",
       "      <th></th>\n",
       "      <th>userId</th>\n",
       "      <th>average_songs</th>\n",
       "    </tr>\n",
       "  </thead>\n",
       "  <tbody>\n",
       "    <tr>\n",
       "      <th>0</th>\n",
       "      <td>100010</td>\n",
       "      <td>54.428571</td>\n",
       "    </tr>\n",
       "    <tr>\n",
       "      <th>1</th>\n",
       "      <td>200002</td>\n",
       "      <td>79.000000</td>\n",
       "    </tr>\n",
       "    <tr>\n",
       "      <th>2</th>\n",
       "      <td>125</td>\n",
       "      <td>11.000000</td>\n",
       "    </tr>\n",
       "    <tr>\n",
       "      <th>3</th>\n",
       "      <td>51</td>\n",
       "      <td>246.400000</td>\n",
       "    </tr>\n",
       "    <tr>\n",
       "      <th>4</th>\n",
       "      <td>124</td>\n",
       "      <td>166.379310</td>\n",
       "    </tr>\n",
       "  </tbody>\n",
       "</table>\n",
       "</div>"
      ],
      "text/plain": [
       "   userId  average_songs\n",
       "0  100010      54.428571\n",
       "1  200002      79.000000\n",
       "2     125      11.000000\n",
       "3      51     246.400000\n",
       "4     124     166.379310"
      ]
     },
     "execution_count": 104,
     "metadata": {},
     "output_type": "execute_result"
    }
   ],
   "source": [
    "df_sessions_songs = df_valid.select(['userId','song','sessionId'])\\\n",
    "                    .groupby(['userId','sessionId'])\\\n",
    "                    .count().groupby(['userId']).agg({'count':'avg'}).toPandas()\n",
    "df_sessions_songs.rename(columns={\"avg(count)\":\"average_songs\"},inplace=True)\n",
    "df_sessions_songs.head()"
   ]
  },
  {
   "cell_type": "markdown",
   "metadata": {},
   "source": [
    "7) number of songs added by the user to playlist"
   ]
  },
  {
   "cell_type": "code",
   "execution_count": 105,
   "metadata": {},
   "outputs": [
    {
     "data": {
      "text/html": [
       "<div>\n",
       "<style scoped>\n",
       "    .dataframe tbody tr th:only-of-type {\n",
       "        vertical-align: middle;\n",
       "    }\n",
       "\n",
       "    .dataframe tbody tr th {\n",
       "        vertical-align: top;\n",
       "    }\n",
       "\n",
       "    .dataframe thead th {\n",
       "        text-align: right;\n",
       "    }\n",
       "</style>\n",
       "<table border=\"1\" class=\"dataframe\">\n",
       "  <thead>\n",
       "    <tr style=\"text-align: right;\">\n",
       "      <th></th>\n",
       "      <th>userId</th>\n",
       "      <th>addtoplaylist</th>\n",
       "    </tr>\n",
       "  </thead>\n",
       "  <tbody>\n",
       "    <tr>\n",
       "      <th>0</th>\n",
       "      <td>100010</td>\n",
       "      <td>7</td>\n",
       "    </tr>\n",
       "    <tr>\n",
       "      <th>1</th>\n",
       "      <td>200002</td>\n",
       "      <td>8</td>\n",
       "    </tr>\n",
       "    <tr>\n",
       "      <th>2</th>\n",
       "      <td>51</td>\n",
       "      <td>52</td>\n",
       "    </tr>\n",
       "    <tr>\n",
       "      <th>3</th>\n",
       "      <td>124</td>\n",
       "      <td>118</td>\n",
       "    </tr>\n",
       "    <tr>\n",
       "      <th>4</th>\n",
       "      <td>7</td>\n",
       "      <td>5</td>\n",
       "    </tr>\n",
       "  </tbody>\n",
       "</table>\n",
       "</div>"
      ],
      "text/plain": [
       "   userId  addtoplaylist\n",
       "0  100010              7\n",
       "1  200002              8\n",
       "2      51             52\n",
       "3     124            118\n",
       "4       7              5"
      ]
     },
     "execution_count": 105,
     "metadata": {},
     "output_type": "execute_result"
    }
   ],
   "source": [
    "df_playlist = df_valid.select(['userId','page'])\\\n",
    "                .filter(df_valid.page == 'Add to Playlist')\\\n",
    "                .groupby('userId').count().toPandas()\n",
    "df_playlist.rename(columns={'count':'addtoplaylist'},inplace=True)\n",
    "df_playlist.head()"
   ]
  },
  {
   "cell_type": "markdown",
   "metadata": {},
   "source": [
    "8) Number of friends added to the service"
   ]
  },
  {
   "cell_type": "code",
   "execution_count": 106,
   "metadata": {},
   "outputs": [
    {
     "data": {
      "text/html": [
       "<div>\n",
       "<style scoped>\n",
       "    .dataframe tbody tr th:only-of-type {\n",
       "        vertical-align: middle;\n",
       "    }\n",
       "\n",
       "    .dataframe tbody tr th {\n",
       "        vertical-align: top;\n",
       "    }\n",
       "\n",
       "    .dataframe thead th {\n",
       "        text-align: right;\n",
       "    }\n",
       "</style>\n",
       "<table border=\"1\" class=\"dataframe\">\n",
       "  <thead>\n",
       "    <tr style=\"text-align: right;\">\n",
       "      <th></th>\n",
       "      <th>userId</th>\n",
       "      <th>addedfriends</th>\n",
       "    </tr>\n",
       "  </thead>\n",
       "  <tbody>\n",
       "    <tr>\n",
       "      <th>0</th>\n",
       "      <td>100010</td>\n",
       "      <td>4</td>\n",
       "    </tr>\n",
       "    <tr>\n",
       "      <th>1</th>\n",
       "      <td>200002</td>\n",
       "      <td>4</td>\n",
       "    </tr>\n",
       "    <tr>\n",
       "      <th>2</th>\n",
       "      <td>51</td>\n",
       "      <td>28</td>\n",
       "    </tr>\n",
       "    <tr>\n",
       "      <th>3</th>\n",
       "      <td>124</td>\n",
       "      <td>74</td>\n",
       "    </tr>\n",
       "    <tr>\n",
       "      <th>4</th>\n",
       "      <td>7</td>\n",
       "      <td>1</td>\n",
       "    </tr>\n",
       "  </tbody>\n",
       "</table>\n",
       "</div>"
      ],
      "text/plain": [
       "   userId  addedfriends\n",
       "0  100010             4\n",
       "1  200002             4\n",
       "2      51            28\n",
       "3     124            74\n",
       "4       7             1"
      ]
     },
     "execution_count": 106,
     "metadata": {},
     "output_type": "execute_result"
    }
   ],
   "source": [
    "df_friends = df_valid.select(['userId','page'])\\\n",
    "            .filter(df_valid.page == 'Add Friend')\\\n",
    "            .groupby('userId').count().toPandas()\n",
    "df_friends.rename(columns={'count':'addedfriends'},inplace=True)\n",
    "df_friends.head()"
   ]
  },
  {
   "cell_type": "markdown",
   "metadata": {},
   "source": [
    "9) proportion of roll adverts"
   ]
  },
  {
   "cell_type": "code",
   "execution_count": 111,
   "metadata": {},
   "outputs": [
    {
     "data": {
      "text/html": [
       "<div>\n",
       "<style scoped>\n",
       "    .dataframe tbody tr th:only-of-type {\n",
       "        vertical-align: middle;\n",
       "    }\n",
       "\n",
       "    .dataframe tbody tr th {\n",
       "        vertical-align: top;\n",
       "    }\n",
       "\n",
       "    .dataframe thead th {\n",
       "        text-align: right;\n",
       "    }\n",
       "</style>\n",
       "<table border=\"1\" class=\"dataframe\">\n",
       "  <thead>\n",
       "    <tr style=\"text-align: right;\">\n",
       "      <th></th>\n",
       "      <th>userId</th>\n",
       "      <th>rolladv</th>\n",
       "    </tr>\n",
       "  </thead>\n",
       "  <tbody>\n",
       "    <tr>\n",
       "      <th>0</th>\n",
       "      <td>100010</td>\n",
       "      <td>52</td>\n",
       "    </tr>\n",
       "    <tr>\n",
       "      <th>1</th>\n",
       "      <td>200002</td>\n",
       "      <td>7</td>\n",
       "    </tr>\n",
       "    <tr>\n",
       "      <th>2</th>\n",
       "      <td>125</td>\n",
       "      <td>1</td>\n",
       "    </tr>\n",
       "    <tr>\n",
       "      <th>3</th>\n",
       "      <td>7</td>\n",
       "      <td>16</td>\n",
       "    </tr>\n",
       "    <tr>\n",
       "      <th>4</th>\n",
       "      <td>124</td>\n",
       "      <td>4</td>\n",
       "    </tr>\n",
       "  </tbody>\n",
       "</table>\n",
       "</div>"
      ],
      "text/plain": [
       "   userId  rolladv\n",
       "0  100010       52\n",
       "1  200002        7\n",
       "2     125        1\n",
       "3       7       16\n",
       "4     124        4"
      ]
     },
     "execution_count": 111,
     "metadata": {},
     "output_type": "execute_result"
    }
   ],
   "source": [
    "df_roll = df_valid.select(['userId','page'])\\\n",
    "            .filter(df_valid.page == 'Roll Advert')\\\n",
    "            .groupby('userId').count().toPandas()\n",
    "df_roll.rename(columns={'count':'rolladv'},inplace=True)\n",
    "df_roll.head()"
   ]
  },
  {
   "cell_type": "markdown",
   "metadata": {},
   "source": [
    "Last but not least, our label = churned users"
   ]
  },
  {
   "cell_type": "code",
   "execution_count": 112,
   "metadata": {},
   "outputs": [
    {
     "data": {
      "text/html": [
       "<div>\n",
       "<style scoped>\n",
       "    .dataframe tbody tr th:only-of-type {\n",
       "        vertical-align: middle;\n",
       "    }\n",
       "\n",
       "    .dataframe tbody tr th {\n",
       "        vertical-align: top;\n",
       "    }\n",
       "\n",
       "    .dataframe thead th {\n",
       "        text-align: right;\n",
       "    }\n",
       "</style>\n",
       "<table border=\"1\" class=\"dataframe\">\n",
       "  <thead>\n",
       "    <tr style=\"text-align: right;\">\n",
       "      <th></th>\n",
       "      <th>userId</th>\n",
       "      <th>Churn</th>\n",
       "    </tr>\n",
       "  </thead>\n",
       "  <tbody>\n",
       "    <tr>\n",
       "      <th>0</th>\n",
       "      <td>100010</td>\n",
       "      <td>0</td>\n",
       "    </tr>\n",
       "    <tr>\n",
       "      <th>1</th>\n",
       "      <td>200002</td>\n",
       "      <td>0</td>\n",
       "    </tr>\n",
       "    <tr>\n",
       "      <th>2</th>\n",
       "      <td>125</td>\n",
       "      <td>1</td>\n",
       "    </tr>\n",
       "    <tr>\n",
       "      <th>3</th>\n",
       "      <td>124</td>\n",
       "      <td>0</td>\n",
       "    </tr>\n",
       "    <tr>\n",
       "      <th>4</th>\n",
       "      <td>51</td>\n",
       "      <td>1</td>\n",
       "    </tr>\n",
       "  </tbody>\n",
       "</table>\n",
       "</div>"
      ],
      "text/plain": [
       "   userId  Churn\n",
       "0  100010      0\n",
       "1  200002      0\n",
       "2     125      1\n",
       "3     124      0\n",
       "4      51      1"
      ]
     },
     "execution_count": 112,
     "metadata": {},
     "output_type": "execute_result"
    }
   ],
   "source": [
    "df_churn = df_valid.select(['userId','Churn']).dropDuplicates().toPandas()\n",
    "df_churn.head()"
   ]
  },
  {
   "cell_type": "code",
   "execution_count": 113,
   "metadata": {},
   "outputs": [],
   "source": [
    "#here we are creating a final version of the dataframe, merging together all features\n",
    "df_final = pd.merge(df_gender,df_level,how='left',on='userId')\n",
    "df_final = pd.merge(df_final,df_thumbsup,how='left',on='userId')\n",
    "df_final = pd.merge(df_final,df_thumbsdown,how='left',on='userId')\n",
    "df_final = pd.merge(df_final,df_songs,how='left',on='userId')\n",
    "df_final = pd.merge(df_final,df_timesincereg,how='left',on='userId')\n",
    "df_final = pd.merge(df_final,df_sessions_songs,how='left',on='userId')\n",
    "df_final = pd.merge(df_final,df_playlist,how='left',on='userId')\n",
    "df_final = pd.merge(df_final,df_friends,how='left',on='userId')\n",
    "df_final = pd.merge(df_final,df_roll,how='left',on='userId')"
   ]
  },
  {
   "cell_type": "code",
   "execution_count": 114,
   "metadata": {},
   "outputs": [
    {
     "data": {
      "text/html": [
       "<div>\n",
       "<style scoped>\n",
       "    .dataframe tbody tr th:only-of-type {\n",
       "        vertical-align: middle;\n",
       "    }\n",
       "\n",
       "    .dataframe tbody tr th {\n",
       "        vertical-align: top;\n",
       "    }\n",
       "\n",
       "    .dataframe thead th {\n",
       "        text-align: right;\n",
       "    }\n",
       "</style>\n",
       "<table border=\"1\" class=\"dataframe\">\n",
       "  <thead>\n",
       "    <tr style=\"text-align: right;\">\n",
       "      <th></th>\n",
       "      <th>userId</th>\n",
       "      <th>gender</th>\n",
       "      <th>level</th>\n",
       "      <th>thumbsup</th>\n",
       "      <th>thumbsdown</th>\n",
       "      <th>nbsongs</th>\n",
       "      <th>max(timesincereg)</th>\n",
       "      <th>average_songs</th>\n",
       "      <th>addtoplaylist</th>\n",
       "      <th>addedfriends</th>\n",
       "      <th>rolladv</th>\n",
       "    </tr>\n",
       "  </thead>\n",
       "  <tbody>\n",
       "    <tr>\n",
       "      <th>0</th>\n",
       "      <td>100010</td>\n",
       "      <td>0</td>\n",
       "      <td>0</td>\n",
       "      <td>17.0</td>\n",
       "      <td>5.0</td>\n",
       "      <td>381</td>\n",
       "      <td>55.643657</td>\n",
       "      <td>54.428571</td>\n",
       "      <td>7.0</td>\n",
       "      <td>4.0</td>\n",
       "      <td>52.0</td>\n",
       "    </tr>\n",
       "    <tr>\n",
       "      <th>1</th>\n",
       "      <td>200002</td>\n",
       "      <td>1</td>\n",
       "      <td>0</td>\n",
       "      <td>21.0</td>\n",
       "      <td>6.0</td>\n",
       "      <td>474</td>\n",
       "      <td>70.074630</td>\n",
       "      <td>79.000000</td>\n",
       "      <td>8.0</td>\n",
       "      <td>4.0</td>\n",
       "      <td>7.0</td>\n",
       "    </tr>\n",
       "    <tr>\n",
       "      <th>2</th>\n",
       "      <td>125</td>\n",
       "      <td>1</td>\n",
       "      <td>0</td>\n",
       "      <td>NaN</td>\n",
       "      <td>NaN</td>\n",
       "      <td>11</td>\n",
       "      <td>71.316887</td>\n",
       "      <td>11.000000</td>\n",
       "      <td>NaN</td>\n",
       "      <td>NaN</td>\n",
       "      <td>1.0</td>\n",
       "    </tr>\n",
       "    <tr>\n",
       "      <th>3</th>\n",
       "      <td>124</td>\n",
       "      <td>0</td>\n",
       "      <td>1</td>\n",
       "      <td>171.0</td>\n",
       "      <td>41.0</td>\n",
       "      <td>4825</td>\n",
       "      <td>131.555914</td>\n",
       "      <td>166.379310</td>\n",
       "      <td>118.0</td>\n",
       "      <td>74.0</td>\n",
       "      <td>4.0</td>\n",
       "    </tr>\n",
       "    <tr>\n",
       "      <th>4</th>\n",
       "      <td>51</td>\n",
       "      <td>1</td>\n",
       "      <td>1</td>\n",
       "      <td>100.0</td>\n",
       "      <td>21.0</td>\n",
       "      <td>2464</td>\n",
       "      <td>19.455845</td>\n",
       "      <td>246.400000</td>\n",
       "      <td>52.0</td>\n",
       "      <td>28.0</td>\n",
       "      <td>NaN</td>\n",
       "    </tr>\n",
       "  </tbody>\n",
       "</table>\n",
       "</div>"
      ],
      "text/plain": [
       "   userId  gender  level  thumbsup  thumbsdown  nbsongs  max(timesincereg)  \\\n",
       "0  100010       0      0      17.0         5.0      381          55.643657   \n",
       "1  200002       1      0      21.0         6.0      474          70.074630   \n",
       "2     125       1      0       NaN         NaN       11          71.316887   \n",
       "3     124       0      1     171.0        41.0     4825         131.555914   \n",
       "4      51       1      1     100.0        21.0     2464          19.455845   \n",
       "\n",
       "   average_songs  addtoplaylist  addedfriends  rolladv  \n",
       "0      54.428571            7.0           4.0     52.0  \n",
       "1      79.000000            8.0           4.0      7.0  \n",
       "2      11.000000            NaN           NaN      1.0  \n",
       "3     166.379310          118.0          74.0      4.0  \n",
       "4     246.400000           52.0          28.0      NaN  "
      ]
     },
     "execution_count": 114,
     "metadata": {},
     "output_type": "execute_result"
    }
   ],
   "source": [
    "df_final.head()"
   ]
  },
  {
   "cell_type": "code",
   "execution_count": 115,
   "metadata": {},
   "outputs": [
    {
     "data": {
      "text/html": [
       "<div>\n",
       "<style scoped>\n",
       "    .dataframe tbody tr th:only-of-type {\n",
       "        vertical-align: middle;\n",
       "    }\n",
       "\n",
       "    .dataframe tbody tr th {\n",
       "        vertical-align: top;\n",
       "    }\n",
       "\n",
       "    .dataframe thead th {\n",
       "        text-align: right;\n",
       "    }\n",
       "</style>\n",
       "<table border=\"1\" class=\"dataframe\">\n",
       "  <thead>\n",
       "    <tr style=\"text-align: right;\">\n",
       "      <th></th>\n",
       "      <th>userId</th>\n",
       "      <th>gender</th>\n",
       "      <th>level</th>\n",
       "      <th>thumbsup</th>\n",
       "      <th>thumbsdown</th>\n",
       "      <th>nbsongs</th>\n",
       "      <th>max(timesincereg)</th>\n",
       "      <th>average_songs</th>\n",
       "      <th>addtoplaylist</th>\n",
       "      <th>addedfriends</th>\n",
       "      <th>rolladv</th>\n",
       "      <th>Churn</th>\n",
       "    </tr>\n",
       "  </thead>\n",
       "  <tbody>\n",
       "    <tr>\n",
       "      <th>0</th>\n",
       "      <td>100010</td>\n",
       "      <td>0</td>\n",
       "      <td>0</td>\n",
       "      <td>17.0</td>\n",
       "      <td>5.0</td>\n",
       "      <td>381</td>\n",
       "      <td>55.643657</td>\n",
       "      <td>54.428571</td>\n",
       "      <td>7.0</td>\n",
       "      <td>4.0</td>\n",
       "      <td>52.0</td>\n",
       "      <td>0</td>\n",
       "    </tr>\n",
       "    <tr>\n",
       "      <th>1</th>\n",
       "      <td>200002</td>\n",
       "      <td>1</td>\n",
       "      <td>0</td>\n",
       "      <td>21.0</td>\n",
       "      <td>6.0</td>\n",
       "      <td>474</td>\n",
       "      <td>70.074630</td>\n",
       "      <td>79.000000</td>\n",
       "      <td>8.0</td>\n",
       "      <td>4.0</td>\n",
       "      <td>7.0</td>\n",
       "      <td>0</td>\n",
       "    </tr>\n",
       "    <tr>\n",
       "      <th>2</th>\n",
       "      <td>125</td>\n",
       "      <td>1</td>\n",
       "      <td>0</td>\n",
       "      <td>NaN</td>\n",
       "      <td>NaN</td>\n",
       "      <td>11</td>\n",
       "      <td>71.316887</td>\n",
       "      <td>11.000000</td>\n",
       "      <td>NaN</td>\n",
       "      <td>NaN</td>\n",
       "      <td>1.0</td>\n",
       "      <td>1</td>\n",
       "    </tr>\n",
       "    <tr>\n",
       "      <th>3</th>\n",
       "      <td>124</td>\n",
       "      <td>0</td>\n",
       "      <td>1</td>\n",
       "      <td>171.0</td>\n",
       "      <td>41.0</td>\n",
       "      <td>4825</td>\n",
       "      <td>131.555914</td>\n",
       "      <td>166.379310</td>\n",
       "      <td>118.0</td>\n",
       "      <td>74.0</td>\n",
       "      <td>4.0</td>\n",
       "      <td>0</td>\n",
       "    </tr>\n",
       "    <tr>\n",
       "      <th>4</th>\n",
       "      <td>51</td>\n",
       "      <td>1</td>\n",
       "      <td>1</td>\n",
       "      <td>100.0</td>\n",
       "      <td>21.0</td>\n",
       "      <td>2464</td>\n",
       "      <td>19.455845</td>\n",
       "      <td>246.400000</td>\n",
       "      <td>52.0</td>\n",
       "      <td>28.0</td>\n",
       "      <td>NaN</td>\n",
       "      <td>1</td>\n",
       "    </tr>\n",
       "  </tbody>\n",
       "</table>\n",
       "</div>"
      ],
      "text/plain": [
       "   userId  gender  level  thumbsup  thumbsdown  nbsongs  max(timesincereg)  \\\n",
       "0  100010       0      0      17.0         5.0      381          55.643657   \n",
       "1  200002       1      0      21.0         6.0      474          70.074630   \n",
       "2     125       1      0       NaN         NaN       11          71.316887   \n",
       "3     124       0      1     171.0        41.0     4825         131.555914   \n",
       "4      51       1      1     100.0        21.0     2464          19.455845   \n",
       "\n",
       "   average_songs  addtoplaylist  addedfriends  rolladv  Churn  \n",
       "0      54.428571            7.0           4.0     52.0      0  \n",
       "1      79.000000            8.0           4.0      7.0      0  \n",
       "2      11.000000            NaN           NaN      1.0      1  \n",
       "3     166.379310          118.0          74.0      4.0      0  \n",
       "4     246.400000           52.0          28.0      NaN      1  "
      ]
     },
     "execution_count": 115,
     "metadata": {},
     "output_type": "execute_result"
    }
   ],
   "source": [
    "#add churn as the last column\n",
    "df_final = pd.merge(df_final,df_churn,how='left',on='userId')\n",
    "df_final.head()"
   ]
  },
  {
   "cell_type": "code",
   "execution_count": 116,
   "metadata": {},
   "outputs": [
    {
     "data": {
      "text/html": [
       "<div>\n",
       "<style scoped>\n",
       "    .dataframe tbody tr th:only-of-type {\n",
       "        vertical-align: middle;\n",
       "    }\n",
       "\n",
       "    .dataframe tbody tr th {\n",
       "        vertical-align: top;\n",
       "    }\n",
       "\n",
       "    .dataframe thead th {\n",
       "        text-align: right;\n",
       "    }\n",
       "</style>\n",
       "<table border=\"1\" class=\"dataframe\">\n",
       "  <thead>\n",
       "    <tr style=\"text-align: right;\">\n",
       "      <th></th>\n",
       "      <th>gender</th>\n",
       "      <th>level</th>\n",
       "      <th>thumbsup</th>\n",
       "      <th>thumbsdown</th>\n",
       "      <th>nbsongs</th>\n",
       "      <th>max(timesincereg)</th>\n",
       "      <th>average_songs</th>\n",
       "      <th>addtoplaylist</th>\n",
       "      <th>addedfriends</th>\n",
       "      <th>rolladv</th>\n",
       "      <th>Churn</th>\n",
       "    </tr>\n",
       "  </thead>\n",
       "  <tbody>\n",
       "    <tr>\n",
       "      <th>0</th>\n",
       "      <td>0</td>\n",
       "      <td>0</td>\n",
       "      <td>17.0</td>\n",
       "      <td>5.0</td>\n",
       "      <td>381</td>\n",
       "      <td>55.643657</td>\n",
       "      <td>54.428571</td>\n",
       "      <td>7.0</td>\n",
       "      <td>4.0</td>\n",
       "      <td>52.0</td>\n",
       "      <td>0</td>\n",
       "    </tr>\n",
       "    <tr>\n",
       "      <th>1</th>\n",
       "      <td>1</td>\n",
       "      <td>0</td>\n",
       "      <td>21.0</td>\n",
       "      <td>6.0</td>\n",
       "      <td>474</td>\n",
       "      <td>70.074630</td>\n",
       "      <td>79.000000</td>\n",
       "      <td>8.0</td>\n",
       "      <td>4.0</td>\n",
       "      <td>7.0</td>\n",
       "      <td>0</td>\n",
       "    </tr>\n",
       "    <tr>\n",
       "      <th>2</th>\n",
       "      <td>1</td>\n",
       "      <td>0</td>\n",
       "      <td>NaN</td>\n",
       "      <td>NaN</td>\n",
       "      <td>11</td>\n",
       "      <td>71.316887</td>\n",
       "      <td>11.000000</td>\n",
       "      <td>NaN</td>\n",
       "      <td>NaN</td>\n",
       "      <td>1.0</td>\n",
       "      <td>1</td>\n",
       "    </tr>\n",
       "    <tr>\n",
       "      <th>3</th>\n",
       "      <td>0</td>\n",
       "      <td>1</td>\n",
       "      <td>171.0</td>\n",
       "      <td>41.0</td>\n",
       "      <td>4825</td>\n",
       "      <td>131.555914</td>\n",
       "      <td>166.379310</td>\n",
       "      <td>118.0</td>\n",
       "      <td>74.0</td>\n",
       "      <td>4.0</td>\n",
       "      <td>0</td>\n",
       "    </tr>\n",
       "    <tr>\n",
       "      <th>4</th>\n",
       "      <td>1</td>\n",
       "      <td>1</td>\n",
       "      <td>100.0</td>\n",
       "      <td>21.0</td>\n",
       "      <td>2464</td>\n",
       "      <td>19.455845</td>\n",
       "      <td>246.400000</td>\n",
       "      <td>52.0</td>\n",
       "      <td>28.0</td>\n",
       "      <td>NaN</td>\n",
       "      <td>1</td>\n",
       "    </tr>\n",
       "  </tbody>\n",
       "</table>\n",
       "</div>"
      ],
      "text/plain": [
       "   gender  level  thumbsup  thumbsdown  nbsongs  max(timesincereg)  \\\n",
       "0       0      0      17.0         5.0      381          55.643657   \n",
       "1       1      0      21.0         6.0      474          70.074630   \n",
       "2       1      0       NaN         NaN       11          71.316887   \n",
       "3       0      1     171.0        41.0     4825         131.555914   \n",
       "4       1      1     100.0        21.0     2464          19.455845   \n",
       "\n",
       "   average_songs  addtoplaylist  addedfriends  rolladv  Churn  \n",
       "0      54.428571            7.0           4.0     52.0      0  \n",
       "1      79.000000            8.0           4.0      7.0      0  \n",
       "2      11.000000            NaN           NaN      1.0      1  \n",
       "3     166.379310          118.0          74.0      4.0      0  \n",
       "4     246.400000           52.0          28.0      NaN      1  "
      ]
     },
     "execution_count": 116,
     "metadata": {},
     "output_type": "execute_result"
    }
   ],
   "source": [
    "#dropping now the userId column as it was only needed to concatenate the dataframes, we won't use it as a feature to train the model\n",
    "df_final.drop(['userId'],axis=1,inplace=True)\n",
    "df_final.head()"
   ]
  },
  {
   "cell_type": "code",
   "execution_count": 117,
   "metadata": {},
   "outputs": [
    {
     "data": {
      "text/plain": [
       "thumbsdown           22\n",
       "addedfriends         19\n",
       "rolladv              18\n",
       "addtoplaylist        10\n",
       "thumbsup              5\n",
       "Churn                 0\n",
       "average_songs         0\n",
       "max(timesincereg)     0\n",
       "nbsongs               0\n",
       "level                 0\n",
       "gender                0\n",
       "dtype: int64"
      ]
     },
     "execution_count": 117,
     "metadata": {},
     "output_type": "execute_result"
    }
   ],
   "source": [
    "#there are NaN values that we need to take care of before starting the ML analysis\n",
    "df_final.isna().sum().sort_values(ascending=False)"
   ]
  },
  {
   "cell_type": "markdown",
   "metadata": {},
   "source": [
    "thumbsdown , addedfriends ,rolladv ,addtoplaylist,thumbsup contains NaN values for users who didn't used these options in the app. The easiest way to deal with these values is to replace all NaN by 0 as the users didn't use those anyway"
   ]
  },
  {
   "cell_type": "code",
   "execution_count": 118,
   "metadata": {},
   "outputs": [],
   "source": [
    "df_final.fillna(value=0,inplace=True)"
   ]
  },
  {
   "cell_type": "code",
   "execution_count": 4,
   "metadata": {},
   "outputs": [],
   "source": [
    "#last but not least, create a function to quickly recreate the df_final dataframe if needed\n",
    "def create_dataframe(jsonfile):\n",
    "    '''\n",
    "    INPUT:\n",
    "        jsonfile. String, path to the jsonfile extract\n",
    "    OUTPUT:\n",
    "        df_final. Pandas dataframe containing ready to go dataframe with all features\n",
    "        df_spark_final. Spark dataframe based on df_final pandas dataframe. For spark ml usage\n",
    "    '''\n",
    "    spark = SparkSession \\\n",
    "    .builder \\\n",
    "    .appName(\"Sparkify churn\") \\\n",
    "    .getOrCreate()\n",
    "    \n",
    "    df = spark.read.json(jsonfile)    \n",
    "    df = df.filter(df[\"userId\"] != \"\")\n",
    "    \n",
    "    #creation of a churn column which will contain 1 if the user cancelled, 0 otherwise\n",
    "    flag_cancellation_event = udf(lambda x: 1 if x == \"Cancellation Confirmation\" else 0, IntegerType())\n",
    "    df = df.withColumn(\"Churn\", flag_cancellation_event('page'))\n",
    "    windowval = Window.partitionBy(\"userId\").rangeBetween(Window.unboundedPreceding, Window.unboundedFollowing)\n",
    "    df = df.withColumn(\"Churn\",Fsum(\"Churn\").over(windowval))\n",
    "    \n",
    "    df_gender = df.select(['userId','gender']).dropDuplicates(['userId']).toPandas()\n",
    "    df_gender = df_gender.replace({'F' : 0, 'M' : 1})\n",
    "    \n",
    "    \n",
    "    df_level = df.select(['userId','level']).dropDuplicates(['userId']).toPandas()\n",
    "    df_level.replace(['paid','free'],[1,0],inplace=True)\n",
    "    \n",
    "    df_thumbsup = df.select(['userId','page']).filter(df.page == 'Thumbs Up').\\\n",
    "                groupby('userId').count().toPandas()\n",
    "    df_thumbsup.rename(columns={'count':'thumbsup'},inplace=True)\n",
    "    \n",
    "    df_thumbsdown = df.select(['userId','page']).filter(df.page == 'Thumbs Down').\\\n",
    "                groupby('userId').count().toPandas()\n",
    "    df_thumbsdown.rename(columns={'count':'thumbsdown'},inplace=True)\n",
    "\n",
    "    df_songs = df.select(['userId','song']).groupby('userId').count().toPandas()\n",
    "    df_songs.rename(columns={\"count\":\"nbsongs\"},inplace=True)\n",
    "    \n",
    "    df_timesincereg = df_valid.withColumn(\"timesincereg\" , (df_valid['ts']-df_valid['registration'])/(1000*60*60*24))\\\n",
    "                    .select(['userId','timesincereg']).groupby('userId').max('timesincereg').toPandas()\n",
    "        \n",
    "    df_sessions_songs = df.select(['userId','song','sessionId'])\\\n",
    "                    .groupby(['userId','sessionId'])\\\n",
    "                    .count().groupby(['userId']).agg({'count':'avg'}).toPandas()\n",
    "    df_sessions_songs.rename(columns={\"avg(count)\":\"average_songs\"},inplace=True)\n",
    "    \n",
    "    df_playlist = df.select(['userId','page'])\\\n",
    "                .filter(df.page == 'Add to Playlist')\\\n",
    "                .groupby('userId').count().toPandas()\n",
    "    df_playlist.rename(columns={'count':'addtoplaylist'},inplace=True)\n",
    "    \n",
    "    df_friends = df.select(['userId','page'])\\\n",
    "            .filter(df.page == 'Add Friend')\\\n",
    "            .groupby('userId').count().toPandas()\n",
    "    df_friends.rename(columns={'count':'addedfriends'},inplace=True)\n",
    "    \n",
    "    df_roll = df.select(['userId','page'])\\\n",
    "            .filter(df.page == 'Roll Advert')\\\n",
    "            .groupby('userId').count().toPandas()\n",
    "    df_roll.rename(columns={'count':'rolladv'},inplace=True)\n",
    "    \n",
    "    df_churn = df.select(['userId','Churn']).dropDuplicates().toPandas()\n",
    "    \n",
    "    \n",
    "    df_final = pd.merge(df_gender,df_level,how='left',on='userId')\n",
    "    df_final = pd.merge(df_final,df_thumbsup,how='left',on='userId')\n",
    "    df_final = pd.merge(df_final,df_thumbsdown,how='left',on='userId')\n",
    "    df_final = pd.merge(df_final,df_songs,how='left',on='userId')\n",
    "    df_final = pd.merge(df_final,df_timesincereg,how='left',on='userId')\n",
    "    df_final = pd.merge(df_final,df_sessions_songs,how='left',on='userId')\n",
    "    df_final = pd.merge(df_final,df_playlist,how='left',on='userId')\n",
    "    df_final = pd.merge(df_final,df_friends,how='left',on='userId')\n",
    "    df_final = pd.merge(df_final,df_roll,how='left',on='userId')\n",
    "    df_final = pd.merge(df_final,df_churn,how='left',on='userId')\n",
    "    \n",
    "    \n",
    "    #dropping now the userId column as it was only needed to concatenate the dataframes, we won't use it as a feature to train the model\n",
    "    df_final.drop(['userId'],axis=1,inplace=True)\n",
    "    df_final.fillna(value=0,inplace=True)\n",
    "    \n",
    "    #let's export the df_final pandas to csv to be able to read it next as a spark df\n",
    "    df_final.to_csv('export_final.csv',header=True,index=False)\n",
    "    df_spark_final = spark.read.csv('export_final.csv',header=True)\n",
    "    \n",
    "    #unfortunately, all the columns are now non numerical (string), so we need to convert them back to double\n",
    "    for c in df_spark_final.columns:\n",
    "        df_spark_final = df_spark_final.withColumn(c,df_spark_final[c].cast(DoubleType()))\n",
    "    df_spark_final = df_spark_final.withColumnRenamed(\"Churn\",\"label\")    \n",
    "    \n",
    "    return df_final,df_spark_final\n",
    "    "
   ]
  },
  {
   "cell_type": "code",
   "execution_count": 16,
   "metadata": {},
   "outputs": [],
   "source": [
    "df_final, df_spark_final = create_dataframe('mini_sparkify_event_data.json')"
   ]
  },
  {
   "cell_type": "code",
   "execution_count": 17,
   "metadata": {},
   "outputs": [
    {
     "data": {
      "text/html": [
       "<div>\n",
       "<style scoped>\n",
       "    .dataframe tbody tr th:only-of-type {\n",
       "        vertical-align: middle;\n",
       "    }\n",
       "\n",
       "    .dataframe tbody tr th {\n",
       "        vertical-align: top;\n",
       "    }\n",
       "\n",
       "    .dataframe thead th {\n",
       "        text-align: right;\n",
       "    }\n",
       "</style>\n",
       "<table border=\"1\" class=\"dataframe\">\n",
       "  <thead>\n",
       "    <tr style=\"text-align: right;\">\n",
       "      <th></th>\n",
       "      <th>gender</th>\n",
       "      <th>level</th>\n",
       "      <th>thumbsup</th>\n",
       "      <th>thumbsdown</th>\n",
       "      <th>nbsongs</th>\n",
       "      <th>max(timesincereg)</th>\n",
       "      <th>average_songs</th>\n",
       "      <th>addtoplaylist</th>\n",
       "      <th>addedfriends</th>\n",
       "      <th>rolladv</th>\n",
       "      <th>Churn</th>\n",
       "    </tr>\n",
       "  </thead>\n",
       "  <tbody>\n",
       "    <tr>\n",
       "      <th>0</th>\n",
       "      <td>0</td>\n",
       "      <td>0</td>\n",
       "      <td>17.0</td>\n",
       "      <td>5.0</td>\n",
       "      <td>381</td>\n",
       "      <td>55.643657</td>\n",
       "      <td>54.428571</td>\n",
       "      <td>7.0</td>\n",
       "      <td>4.0</td>\n",
       "      <td>52.0</td>\n",
       "      <td>0</td>\n",
       "    </tr>\n",
       "    <tr>\n",
       "      <th>1</th>\n",
       "      <td>1</td>\n",
       "      <td>0</td>\n",
       "      <td>21.0</td>\n",
       "      <td>6.0</td>\n",
       "      <td>474</td>\n",
       "      <td>70.074630</td>\n",
       "      <td>79.000000</td>\n",
       "      <td>8.0</td>\n",
       "      <td>4.0</td>\n",
       "      <td>7.0</td>\n",
       "      <td>0</td>\n",
       "    </tr>\n",
       "    <tr>\n",
       "      <th>2</th>\n",
       "      <td>1</td>\n",
       "      <td>0</td>\n",
       "      <td>0.0</td>\n",
       "      <td>0.0</td>\n",
       "      <td>11</td>\n",
       "      <td>71.316887</td>\n",
       "      <td>11.000000</td>\n",
       "      <td>0.0</td>\n",
       "      <td>0.0</td>\n",
       "      <td>1.0</td>\n",
       "      <td>1</td>\n",
       "    </tr>\n",
       "    <tr>\n",
       "      <th>3</th>\n",
       "      <td>0</td>\n",
       "      <td>1</td>\n",
       "      <td>171.0</td>\n",
       "      <td>41.0</td>\n",
       "      <td>4825</td>\n",
       "      <td>131.555914</td>\n",
       "      <td>166.379310</td>\n",
       "      <td>118.0</td>\n",
       "      <td>74.0</td>\n",
       "      <td>4.0</td>\n",
       "      <td>0</td>\n",
       "    </tr>\n",
       "    <tr>\n",
       "      <th>4</th>\n",
       "      <td>1</td>\n",
       "      <td>1</td>\n",
       "      <td>100.0</td>\n",
       "      <td>21.0</td>\n",
       "      <td>2464</td>\n",
       "      <td>19.455845</td>\n",
       "      <td>246.400000</td>\n",
       "      <td>52.0</td>\n",
       "      <td>28.0</td>\n",
       "      <td>0.0</td>\n",
       "      <td>1</td>\n",
       "    </tr>\n",
       "  </tbody>\n",
       "</table>\n",
       "</div>"
      ],
      "text/plain": [
       "   gender  level  thumbsup  thumbsdown  nbsongs  max(timesincereg)  \\\n",
       "0       0      0      17.0         5.0      381          55.643657   \n",
       "1       1      0      21.0         6.0      474          70.074630   \n",
       "2       1      0       0.0         0.0       11          71.316887   \n",
       "3       0      1     171.0        41.0     4825         131.555914   \n",
       "4       1      1     100.0        21.0     2464          19.455845   \n",
       "\n",
       "   average_songs  addtoplaylist  addedfriends  rolladv  Churn  \n",
       "0      54.428571            7.0           4.0     52.0      0  \n",
       "1      79.000000            8.0           4.0      7.0      0  \n",
       "2      11.000000            0.0           0.0      1.0      1  \n",
       "3     166.379310          118.0          74.0      4.0      0  \n",
       "4     246.400000           52.0          28.0      0.0      1  "
      ]
     },
     "execution_count": 17,
     "metadata": {},
     "output_type": "execute_result"
    }
   ],
   "source": [
    "df_final.head()"
   ]
  },
  {
   "cell_type": "code",
   "execution_count": 18,
   "metadata": {},
   "outputs": [
    {
     "data": {
      "text/plain": [
       "DataFrame[gender: double, level: double, thumbsup: double, thumbsdown: double, nbsongs: double, max(timesincereg): double, average_songs: double, addtoplaylist: double, addedfriends: double, rolladv: double, label: double]"
      ]
     },
     "execution_count": 18,
     "metadata": {},
     "output_type": "execute_result"
    }
   ],
   "source": [
    "df_spark_final"
   ]
  },
  {
   "cell_type": "markdown",
   "metadata": {},
   "source": [
    "# Modeling\n",
    "In this part, we will train and test several ML models to determine the one which is giving the highest F1 score. The reason why we will use the F1 score as a metric is that the churned users proportion is quite low in the big dataset (285k records), so drawing conclusion on accuracy alone on such a small group of rows won't give a fair measurement and could even lead us to wrong assessment."
   ]
  },
  {
   "cell_type": "raw",
   "metadata": {},
   "source": [
    "We will try to train the model using different ML classification algorithms \n",
    "\n",
    "1) GBTClassifier\n",
    "2) RandomForestClassifier\n",
    "3) DecisionTreeClassifier"
   ]
  },
  {
   "cell_type": "markdown",
   "metadata": {},
   "source": [
    "In order to use spark ml, one need again a spark dataframe format and not a pandas dataframe"
   ]
  },
  {
   "cell_type": "code",
   "execution_count": 19,
   "metadata": {},
   "outputs": [],
   "source": [
    "#loading spark dataframe\n",
    "_, df_spark_final = create_dataframe('mini_sparkify_event_data.json')"
   ]
  },
  {
   "cell_type": "code",
   "execution_count": 20,
   "metadata": {},
   "outputs": [
    {
     "data": {
      "text/plain": [
       "DataFrame[gender: double, level: double, thumbsup: double, thumbsdown: double, nbsongs: double, max(timesincereg): double, average_songs: double, addtoplaylist: double, addedfriends: double, rolladv: double, label: double]"
      ]
     },
     "execution_count": 20,
     "metadata": {},
     "output_type": "execute_result"
    }
   ],
   "source": [
    "df_spark_final"
   ]
  },
  {
   "cell_type": "code",
   "execution_count": 21,
   "metadata": {},
   "outputs": [],
   "source": [
    "# Split the data into train and test sets (80%/20% split)\n",
    "train_data, test_data = df_spark_final.randomSplit([.8,.2],seed=42)"
   ]
  },
  {
   "cell_type": "code",
   "execution_count": 22,
   "metadata": {},
   "outputs": [],
   "source": [
    "#spark ml requires a vector of features, let's create one with our columns (excluding 'Churn' obviously)\n",
    "assembler = VectorAssembler(inputCols=df_spark_final.columns[:-1], outputCol=\"features\")"
   ]
  },
  {
   "cell_type": "code",
   "execution_count": 23,
   "metadata": {},
   "outputs": [],
   "source": [
    "#scale the data : define the standard scaler\n",
    "scaler = MinMaxScaler(inputCol=\"features\", outputCol=\"scaledfeatures\")"
   ]
  },
  {
   "cell_type": "code",
   "execution_count": 24,
   "metadata": {},
   "outputs": [],
   "source": [
    "clf_A = GBTClassifier(featuresCol=\"scaledfeatures\",labelCol=\"label\")\n",
    "clf_B = RandomForestClassifier(featuresCol=\"scaledfeatures\",labelCol=\"label\")\n",
    "clf_C = DecisionTreeClassifier(featuresCol=\"scaledfeatures\",labelCol=\"label\")\n",
    "\n",
    "classifiers = {'GBT' : clf_A,'RandomForest' : clf_B, 'DecisionTree' : clf_C}"
   ]
  },
  {
   "cell_type": "code",
   "execution_count": 28,
   "metadata": {},
   "outputs": [],
   "source": [
    "#using gridsearch to determine the optimum parameters for the algorithms\n",
    "parametersGrid_A = (ParamGridBuilder()\n",
    "             .addGrid(clf_A.maxDepth, [8, 16,20])\n",
    "             .addGrid(clf_A.maxBins, [8 ,16,20])\n",
    "             .addGrid(clf_A.maxIter, [10, 15])\n",
    "             .build())\n",
    "\n",
    "parametersGrid_B = (ParamGridBuilder()\n",
    "             .addGrid(clf_B.maxDepth, [8, 16,20])\n",
    "             .addGrid(clf_B.maxBins, [8, 16, 20])\n",
    "             .addGrid(clf_B.impurity, ['gini','entropy'])\n",
    "             .build())\n",
    "\n",
    "parametersGrid_C = (ParamGridBuilder()\n",
    "             .addGrid(clf_C.maxDepth, [8, 16,20])\n",
    "             .addGrid(clf_C.maxBins, [8,16,20])\n",
    "             .addGrid(clf_C.impurity, ['gini','entropy'])\n",
    "             .build())\n",
    "\n",
    "params_grid = {'GBT' : parametersGrid_A, 'RandomForest' : parametersGrid_B, 'DecisionTree' : parametersGrid_C}"
   ]
  },
  {
   "cell_type": "code",
   "execution_count": 32,
   "metadata": {},
   "outputs": [],
   "source": [
    "def compare_models():\n",
    "    '''\n",
    "    compare models printing F1 score\n",
    "    INPUT:\n",
    "    OUTPUT:\n",
    "        best_models. dictionary with model as a key and F1 score as the value\n",
    "    '''\n",
    "    best_models={}\n",
    "    for k in classifiers.keys():\n",
    "        \n",
    "        #chaining assembler, scaler and classifier in a pipeline\n",
    "        pipeline = Pipeline(stages=[assembler,scaler,classifiers[k]])\n",
    "        evaluator = MulticlassClassificationEvaluator(labelCol='label', predictionCol=\"prediction\",metricName='f1')\n",
    "        #use k-folds cross validation to add oversampling (k = 5)\n",
    "        model = CrossValidator(\n",
    "        estimator=pipeline,\n",
    "        estimatorParamMaps=params_grid[k],\n",
    "        evaluator=evaluator,\n",
    "        numFolds=5,\n",
    "        )\n",
    "        trained_model = model.fit(train_data)\n",
    "        preds = trained_model.transform(test_data)\n",
    "        print('predictions for model {} : f1 = {}'.format(k,evaluator.evaluate(preds)))\n",
    "        best_models[k] = trained_model.bestModel\n",
    "        \n",
    "    return best_models"
   ]
  },
  {
   "cell_type": "code",
   "execution_count": 33,
   "metadata": {},
   "outputs": [
    {
     "name": "stdout",
     "output_type": "stream",
     "text": [
      "predictions for model GBT : f1 = 0.7912280701754386\n",
      "predictions for model RandomForest : f1 = 0.741852487135506\n",
      "predictions for model DecisionTree : f1 = 0.8188405797101449\n"
     ]
    }
   ],
   "source": [
    "best_models = compare_models()"
   ]
  },
  {
   "cell_type": "code",
   "execution_count": 35,
   "metadata": {},
   "outputs": [
    {
     "data": {
      "text/plain": [
       "{'GBT': PipelineModel_61d05e81f919,\n",
       " 'RandomForest': PipelineModel_51d91087db9c,\n",
       " 'DecisionTree': PipelineModel_df6c7d40f3ab}"
      ]
     },
     "execution_count": 35,
     "metadata": {},
     "output_type": "execute_result"
    }
   ],
   "source": [
    "best_models"
   ]
  },
  {
   "cell_type": "markdown",
   "metadata": {},
   "source": [
    "From the analysis above, the DecisionTreeClassifier (DecisionTree) seems to give the highest F1 score, so we will keep this model moving forward"
   ]
  },
  {
   "cell_type": "code",
   "execution_count": 36,
   "metadata": {},
   "outputs": [],
   "source": [
    "DT_best_model = best_models['DecisionTree']"
   ]
  },
  {
   "cell_type": "code",
   "execution_count": 37,
   "metadata": {},
   "outputs": [],
   "source": [
    "DT_best_model.save(\"dt_bestmodel.model\")"
   ]
  },
  {
   "cell_type": "code",
   "execution_count": 38,
   "metadata": {},
   "outputs": [],
   "source": [
    "#Now that we have the trained model,we can compute the relative importance of each features in the F1 score"
   ]
  },
  {
   "cell_type": "code",
   "execution_count": 39,
   "metadata": {},
   "outputs": [
    {
     "data": {
      "text/plain": [
       "[0.01574967358189468,\n",
       " 0.05654882800356472,\n",
       " 0.11569710414641375,\n",
       " 0.12963811945216797,\n",
       " 0.04422261288092781,\n",
       " 0.3248676899677471,\n",
       " 0.050398955462062946,\n",
       " 0.051479221534667226,\n",
       " 0.04195602699676053,\n",
       " 0.16944176797379334]"
      ]
     },
     "execution_count": 39,
     "metadata": {},
     "output_type": "execute_result"
    }
   ],
   "source": [
    "#Here is the list of weights for each features\n",
    "featuresimp = DT_best_model.stages[2].featureImportances.values.tolist()\n",
    "featuresimp"
   ]
  },
  {
   "cell_type": "code",
   "execution_count": 40,
   "metadata": {},
   "outputs": [
    {
     "data": {
      "text/plain": [
       "['gender',\n",
       " 'level',\n",
       " 'thumbsup',\n",
       " 'thumbsdown',\n",
       " 'nbsongs',\n",
       " 'max(timesincereg)',\n",
       " 'average_songs',\n",
       " 'addtoplaylist',\n",
       " 'addedfriends',\n",
       " 'rolladv']"
      ]
     },
     "execution_count": 40,
     "metadata": {},
     "output_type": "execute_result"
    }
   ],
   "source": [
    "#and here are the features \n",
    "features = df_final.columns[:-1].values.tolist()\n",
    "features"
   ]
  },
  {
   "cell_type": "code",
   "execution_count": 41,
   "metadata": {},
   "outputs": [],
   "source": [
    "df_featuresimp = pd.DataFrame({'features':features,'featuresimp':featuresimp})"
   ]
  },
  {
   "cell_type": "code",
   "execution_count": 42,
   "metadata": {},
   "outputs": [
    {
     "data": {
      "text/plain": [
       "<matplotlib.axes._subplots.AxesSubplot at 0x7efdac19f198>"
      ]
     },
     "execution_count": 42,
     "metadata": {},
     "output_type": "execute_result"
    },
    {
     "data": {
      "image/png": "[encoded data removed]",
      "text/plain": [
       "<matplotlib.figure.Figure at 0x7efdacd36b38>"
      ]
     },
     "metadata": {
      "needs_background": "light"
     },
     "output_type": "display_data"
    }
   ],
   "source": [
    "sns.barplot(y='features',x='featuresimp',data=df_featuresimp)"
   ]
  },
  {
   "cell_type": "markdown",
   "metadata": {},
   "source": [
    "# Conclusion"
   ]
  },
  {
   "cell_type": "raw",
   "metadata": {},
   "source": [
    "From the plot above, we can see than the top 3 contributors to user churn are :\n",
    "    \n",
    "    1) Max(timesincereg) : the total amount of time since the user initially registered to the service. This is the biggest contributor to churn by far\n",
    "    2) rolladv : the amount of adverts that the user was exposed to\n",
    "    3) thumbsdown : the amount of thumbs down , showing that the user dislike the service\n",
    "    "
   ]
  },
  {
   "cell_type": "markdown",
   "metadata": {},
   "source": [
    "# Reflection"
   ]
  },
  {
   "cell_type": "markdown",
   "metadata": {},
   "source": [
    "This was my first exposure to the spark ml framework and it took me quite a bit of time to adapt and to learn how to use it. Once I was familiar, I could make the connection with pandas and sklearn, as at the end these frameworks are similar. I was though a bit disappointed by the documentation available for spark which seems to be less described compared to pandas and sklearn, maybe because of the popularity of these last two.\n",
    "It was interesting as well to understand how the processing of \"big data\" works in the background, with the full capabilities of the Spark framework. It actually gave me the idea to start experimenting more in Azure databricks (which is available in my company) on some other real work examples and \"big data\" accessible from azure datalake (ex: prediction of sales)"
   ]
  },
  {
   "cell_type": "markdown",
   "metadata": {},
   "source": [
    "# Improvements"
   ]
  },
  {
   "cell_type": "markdown",
   "metadata": {},
   "source": [
    "As always, \"all models are wrong and some are usefull\". So there are certainly room for improvement here as well.\n",
    "I could have played more with the hyperparameters tuning using gridsearch, probably playing with the deepth of the trees, or changing the loss function maybe. What would certainly help better is simply to download more data from the main dataset to give the chance to the algorithm to better learn. Last but not least we could have added more features like geographical data for instance (as we have the location column in the dataset)"
   ]
  },
  {
   "cell_type": "code",
   "execution_count": null,
   "metadata": {},
   "outputs": [],
   "source": []
  }
 ],
 "metadata": {
  "kernelspec": {
   "display_name": "Python 3",
   "language": "python",
   "name": "python3"
  },
  "language_info": {
   "codemirror_mode": {
    "name": "ipython",
    "version": 3
   },
   "file_extension": ".py",
   "mimetype": "text/x-python",
   "name": "python",
   "nbconvert_exporter": "python",
   "pygments_lexer": "ipython3",
   "version": "3.6.3"
  }
 },
 "nbformat": 4,
 "nbformat_minor": 2
}
